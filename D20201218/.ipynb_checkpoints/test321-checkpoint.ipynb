{
 "cells": [
  {
   "cell_type": "code",
   "execution_count": 1,
   "metadata": {},
   "outputs": [],
   "source": [
    "import torch\n",
    "#Autograd求导与手动求导区别\n",
    "def f(x):\n",
    "    y=x**2*torch.exp(x)\n",
    "    return y\n",
    "def gradf(x):\n",
    "    '''手动求导'''\n",
    "    dx=2*x*torch.exp(x)+x**2*torch.exp(x)\n",
    "    return dx\n"
   ]
  },
  {
   "cell_type": "code",
   "execution_count": 2,
   "metadata": {},
   "outputs": [
    {
     "data": {
      "text/plain": [
       "tensor([[8.7301e-03, 1.0667e-02, 2.5545e+00, 5.9792e+00],\n",
       "        [9.0186e+00, 2.5935e-01, 3.1000e+00, 4.0671e-01],\n",
       "        [5.3601e-01, 2.4638e-01, 5.4336e+01, 1.4956e+00]],\n",
       "       grad_fn=<MulBackward0>)"
      ]
     },
     "execution_count": 2,
     "metadata": {},
     "output_type": "execute_result"
    }
   ],
   "source": [
    "x=torch.randn(3,4,requires_grad=True)\n",
    "y=f(x)\n",
    "y"
   ]
  },
  {
   "cell_type": "code",
   "execution_count": 3,
   "metadata": {},
   "outputs": [],
   "source": [
    "y.backward(torch.ones(y.size()))"
   ]
  },
  {
   "cell_type": "code",
   "execution_count": 4,
   "metadata": {},
   "outputs": [
    {
     "data": {
      "text/plain": [
       "tensor([[-1.6919e-01,  2.2764e-01,  7.7709e+00,  1.5280e+01],\n",
       "        [ 2.1436e+01,  1.5122e+00,  9.0363e+00, -3.2477e-01],\n",
       "        [-5.7038e-02,  1.4621e+00,  1.0126e+02,  5.1700e+00]])"
      ]
     },
     "execution_count": 4,
     "metadata": {},
     "output_type": "execute_result"
    }
   ],
   "source": [
    "x.grad"
   ]
  },
  {
   "cell_type": "code",
   "execution_count": 5,
   "metadata": {},
   "outputs": [
    {
     "data": {
      "text/plain": [
       "tensor([[-1.6919e-01,  2.2764e-01,  7.7709e+00,  1.5280e+01],\n",
       "        [ 2.1436e+01,  1.5122e+00,  9.0363e+00, -3.2477e-01],\n",
       "        [-5.7038e-02,  1.4621e+00,  1.0126e+02,  5.1700e+00]],\n",
       "       grad_fn=<AddBackward0>)"
      ]
     },
     "execution_count": 5,
     "metadata": {},
     "output_type": "execute_result"
    }
   ],
   "source": [
    "gradf(x)"
   ]
  }
 ],
 "metadata": {
  "kernelspec": {
   "display_name": "Python 3",
   "language": "python",
   "name": "python3"
  },
  "language_info": {
   "codemirror_mode": {
    "name": "ipython",
    "version": 3
   },
   "file_extension": ".py",
   "mimetype": "text/x-python",
   "name": "python",
   "nbconvert_exporter": "python",
   "pygments_lexer": "ipython3",
   "version": "3.7.9"
  }
 },
 "nbformat": 4,
 "nbformat_minor": 4
}
