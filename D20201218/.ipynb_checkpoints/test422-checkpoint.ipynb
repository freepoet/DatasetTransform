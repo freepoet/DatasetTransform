{
 "cells": [
  {
   "cell_type": "code",
   "execution_count": 5,
   "metadata": {},
   "outputs": [],
   "source": [
    "from torch.autograd import Variable as V\n",
    "import torch as t\n",
    "import torch.nn as nn\n",
    "relu=nn.ReLU(inplace=True)\n",
    "score=V(t.randn(3,2))   #batch_size=3  类别=2\n",
    "label=V(t.Tensor([1,0,1])).long()\n",
    "criterion=nn.CrossEntropyLoss()\n",
    "loss=criterion(score,label)"
   ]
  },
  {
   "cell_type": "code",
   "execution_count": 6,
   "metadata": {},
   "outputs": [
    {
     "data": {
      "text/plain": [
       "(tensor([[ 0.0480, -1.8105],\n",
       "         [ 2.1802,  1.3448],\n",
       "         [ 0.0774, -1.1612]]),\n",
       " tensor([1, 0, 1]),\n",
       " tensor(1.2856))"
      ]
     },
     "execution_count": 6,
     "metadata": {},
     "output_type": "execute_result"
    }
   ],
   "source": [
    "score,label,loss"
   ]
  }
 ],
 "metadata": {
  "kernelspec": {
   "display_name": "Python 3",
   "language": "python",
   "name": "python3"
  },
  "language_info": {
   "codemirror_mode": {
    "name": "ipython",
    "version": 3
   },
   "file_extension": ".py",
   "mimetype": "text/x-python",
   "name": "python",
   "nbconvert_exporter": "python",
   "pygments_lexer": "ipython3",
   "version": "3.7.9"
  }
 },
 "nbformat": 4,
 "nbformat_minor": 4
}
