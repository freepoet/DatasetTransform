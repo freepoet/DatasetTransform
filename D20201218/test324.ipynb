{
 "cells": [
  {
   "cell_type": "code",
   "execution_count": 1,
   "metadata": {},
   "outputs": [],
   "source": [
    "import torch as t\n",
    "from torch.autograd import Variable as V\n",
    "%matplotlib inline\n",
    "from matplotlib import pyplot as plt\n",
    "from IPython import display"
   ]
  },
  {
   "cell_type": "code",
   "execution_count": 2,
   "metadata": {},
   "outputs": [
    {
     "data": {
      "text/plain": [
       "<matplotlib.collections.PathCollection at 0x7fbabccf0710>"
      ]
     },
     "execution_count": 2,
     "metadata": {},
     "output_type": "execute_result"
    },
    {
     "data": {
      "image/png": "[encoded data removed]",
      "text/plain": [
       "<Figure size 432x288 with 1 Axes>"
      ]
     },
     "metadata": {
      "needs_background": "light"
     },
     "output_type": "display_data"
    }
   ],
   "source": [
    "t.manual_seed(1000)\n",
    "def get_fake_data(batch_size=8):\n",
    "    x=t.rand(batch_size,1)*20\n",
    "    y=x*2+(1+t.randn(batch_size,1))*3\n",
    "    return x,y\n",
    "x,y = get_fake_data()\n",
    "plt.scatter(x.squeeze().numpy(),y.squeeze().numpy())"
   ]
  },
  {
   "cell_type": "code",
   "execution_count": 3,
   "metadata": {},
   "outputs": [],
   "source": [
    "w=V(t.rand(1,1),requires_grad=True)\n",
    "b=V(t.zeros(1,1),requires_grad=True)\n",
    "lr=0.001\n"
   ]
  },
  {
   "cell_type": "code",
   "execution_count": 4,
   "metadata": {},
   "outputs": [
    {
     "name": "stdout",
     "output_type": "stream",
     "text": [
      "tensor([[ 0.],\n",
      "        [ 1.],\n",
      "        [ 2.],\n",
      "        [ 3.],\n",
      "        [ 4.],\n",
      "        [ 5.],\n",
      "        [ 6.],\n",
      "        [ 7.],\n",
      "        [ 8.],\n",
      "        [ 9.],\n",
      "        [10.],\n",
      "        [11.],\n",
      "        [12.],\n",
      "        [13.],\n",
      "        [14.],\n",
      "        [15.],\n",
      "        [16.],\n",
      "        [17.],\n",
      "        [18.],\n",
      "        [19.]]) tensor([[ 2.8902],\n",
      "        [ 4.7443],\n",
      "        [ 6.5984],\n",
      "        [ 8.4524],\n",
      "        [10.3065],\n",
      "        [12.1606],\n",
      "        [14.0147],\n",
      "        [15.8688],\n",
      "        [17.7229],\n",
      "        [19.5770],\n",
      "        [21.4311],\n",
      "        [23.2852],\n",
      "        [25.1393],\n",
      "        [26.9934],\n",
      "        [28.8475],\n",
      "        [30.7016],\n",
      "        [32.5557],\n",
      "        [34.4098],\n",
      "        [36.2639],\n",
      "        [38.1180]])\n"
     ]
    },
    {
     "data": {
      "image/png": "[encoded data removed]",
      "text/plain": [
       "<Figure size 432x288 with 1 Axes>"
      ]
     },
     "metadata": {
      "needs_background": "light"
     },
     "output_type": "display_data"
    }
   ],
   "source": [
    "for i in range(8000):\n",
    "    x,y=get_fake_data()\n",
    "    x,y=V(x),V(y)\n",
    "    \n",
    "    y_pred=x.mm(w)+b.expand_as(y)\n",
    "    \n",
    "    loss=0.5*(y_pred-y)**2\n",
    "    \n",
    "    loss=loss.sum()\n",
    "    \n",
    "\n",
    "    loss.backward()\n",
    "    \n",
    "    w.data.sub_(lr*w.grad.data)\n",
    "    b.data.sub_(lr*b.grad.data)\n",
    "    \n",
    "    w.grad.data.zero_()\n",
    "    b.grad.data.zero_()\n",
    "\n",
    "    \n",
    "    if i%1000 ==0:\n",
    "        display.clear_output(wait=True)\n",
    "        x=t.arange(0,20,1.0).view(-1,1)\n",
    "        y=x.mm(w.data)+b.data.expand_as(x)\n",
    "        print(x,y)\n",
    "        plt.plot(x.numpy(),y.numpy())\n",
    "        x2,y2 = get_fake_data(batch_size=20)\n",
    "        plt.scatter(x2.numpy(),y2.numpy())\n",
    "        plt.xlim(0,20)\n",
    "        plt.ylim(0,45)\n",
    "        plt.show()\n",
    "        plt.pause(1)\n",
    "# print(w.data.squeeze()[0],b.data.squeeze()[0])"
   ]
  },
  {
   "cell_type": "code",
   "execution_count": null,
   "metadata": {},
   "outputs": [],
   "source": []
  }
 ],
 "metadata": {
  "kernelspec": {
   "display_name": "Python 3",
   "language": "python",
   "name": "python3"
  },
  "language_info": {
   "codemirror_mode": {
    "name": "ipython",
    "version": 3
   },
   "file_extension": ".py",
   "mimetype": "text/x-python",
   "name": "python",
   "nbconvert_exporter": "python",
   "pygments_lexer": "ipython3",
   "version": "3.7.9"
  }
 },
 "nbformat": 4,
 "nbformat_minor": 4
}
