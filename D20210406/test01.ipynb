{
 "cells": [
  {
   "cell_type": "code",
   "execution_count": 1,
   "id": "affiliated-controversy",
   "metadata": {},
   "outputs": [],
   "source": [
    "import torch\n",
    "# torch.cuda.set_device(0)\n",
    "import torchvision\n",
    "import torchvision.transforms as transforms\n",
    "from torchvision.transforms import ToPILImage\n",
    "show = ToPILImage()   #0-1 转 0-255\n",
    "import matplotlib.pyplot as plt\n",
    "import numpy as np\n",
    "from PIL import Image\n",
    "from torch.autograd import Variable\n",
    "#读取MNIST数据集\n",
    "transform = transforms.Compose([\n",
    "    transforms.ToTensor(),  # 0-255  转为  0-1\n",
    "    transforms.Normalize((0.5,),(0.5,))  # 0-1  转为  -1-1\n",
    "])\n",
    "trainset=torchvision.datasets.MNIST(\n",
    "    root='E:/HardDisk/data/',\n",
    "    train=True,\n",
    "    download=False,\n",
    "    transform=transform\n",
    ")\n",
    "trainloader=torch.utils.data.DataLoader(\n",
    "    trainset,\n",
    "    batch_size=1,\n",
    "    shuffle=True,\n",
    "    num_workers=0\n",
    ")\n",
    "testset=torchvision.datasets.MNIST(\n",
    "    root='E:/HardDisk/data/',\n",
    "    train=False,\n",
    "    download=False,\n",
    "    transform=transform\n",
    ")\n",
    "testloader=torch.utils.data.DataLoader(\n",
    "    testset,\n",
    "    batch_size=1,\n",
    "    shuffle=False,\n",
    "    num_workers=0\n",
    ")"
   ]
  },
  {
   "cell_type": "code",
   "execution_count": 2,
   "id": "statistical-scott",
   "metadata": {},
   "outputs": [
    {
     "name": "stdout",
     "output_type": "stream",
     "text": [
      "LeNet(\n",
      "  (conv1): Conv2d(1, 6, kernel_size=(5, 5), stride=(1, 1))\n",
      "  (conv2): Conv2d(6, 16, kernel_size=(5, 5), stride=(1, 1))\n",
      "  (fc1): Linear(in_features=256, out_features=120, bias=True)\n",
      "  (fc2): Linear(in_features=120, out_features=84, bias=True)\n",
      "  (fc3): Linear(in_features=84, out_features=10, bias=True)\n",
      ")\n"
     ]
    }
   ],
   "source": [
    "#定义LeNet-5\n",
    "import torch.nn as nn\n",
    "import torch.nn.functional as F\n",
    "class LeNet(nn.Module):\n",
    "    def __init__(self):\n",
    "        super(LeNet,self).__init__()\n",
    "        self.conv1=nn.Conv2d(1,6,5)\n",
    "        self.conv2=nn.Conv2d(6,16,5)\n",
    "        self.fc1=nn.Linear(16*4*4,120)\n",
    "        self.fc2=nn.Linear(120,84)\n",
    "        self.fc3=nn.Linear(84,10)\n",
    "        \n",
    "    def forward(self,x):\n",
    "        x=F.max_pool2d(F.relu(self.conv1(x)),2)\n",
    "        x=F.max_pool2d(F.relu(self.conv2(x)),2)\n",
    "        x=x.view(x.size()[0],-1)\n",
    "        x=F.relu(self.fc1(x))\n",
    "        x=F.relu(self.fc2(x))\n",
    "        x=self.fc3(x)\n",
    "        return x\n",
    "net=LeNet()\n",
    "print(net)\n",
    "#定义卷积层\n",
    "conv1=nn.Conv2d(1,6,5)\n",
    "conv2=nn.Conv2d(6,16,5)\n",
    "fc1=nn.Linear(16*4*4,120)\n",
    "fc2=nn.Linear(120,84)\n",
    "fc3=nn.Linear(84,10)\n",
    "#定义最大池化层\n",
    "maxpooling=nn.MaxPool2d(2,2)"
   ]
  },
  {
   "cell_type": "code",
   "execution_count": 3,
   "id": "animated-motorcycle",
   "metadata": {},
   "outputs": [
    {
     "name": "stdout",
     "output_type": "stream",
     "text": [
      "label:tensor([7])\n"
     ]
    },
    {
     "data": {
      "image/png": "[encoded data removed]",
      "text/plain": [
       "<Figure size 432x288 with 1 Axes>"
      ]
     },
     "metadata": {
      "needs_background": "light"
     },
     "output_type": "display_data"
    }
   ],
   "source": [
    "data_iter=iter(testloader)\n",
    "images, labels = data_iter.next() #一个batch多个图片  输入 1 1 28 28\n",
    "print(\"label:\"+str(labels))\n",
    "# img=transforms.ToPILImage(images)\n",
    "img=images.squeeze(0)\n",
    "# img=torchvision.utils.make_grid(images).numpy()\n",
    "plt.imshow(np.transpose(img,(1,2,0)),cmap='gray')\n",
    "plt.show()"
   ]
  },
  {
   "cell_type": "code",
   "execution_count": 4,
   "id": "mental-passenger",
   "metadata": {},
   "outputs": [
    {
     "data": {
      "text/plain": [
       "torch.Size([1, 28, 28])"
      ]
     },
     "execution_count": 4,
     "metadata": {},
     "output_type": "execute_result"
    }
   ],
   "source": [
    "img.shape"
   ]
  },
  {
   "cell_type": "code",
   "execution_count": 5,
   "id": "straight-jacksonville",
   "metadata": {},
   "outputs": [
    {
     "data": {
      "image/png": "[encoded data removed]",
      "text/plain": [
       "<Figure size 432x288 with 6 Axes>"
      ]
     },
     "metadata": {
      "needs_background": "light"
     },
     "output_type": "display_data"
    },
    {
     "data": {
      "image/png": "[encoded data removed]",
      "text/plain": [
       "<Figure size 432x288 with 6 Axes>"
      ]
     },
     "metadata": {
      "needs_background": "light"
     },
     "output_type": "display_data"
    },
    {
     "data": {
      "image/png": "[encoded data removed]",
      "text/plain": [
       "<Figure size 432x288 with 6 Axes>"
      ]
     },
     "metadata": {
      "needs_background": "light"
     },
     "output_type": "display_data"
    }
   ],
   "source": [
    "plt.figure()\n",
    "c1 = Variable(conv1(images))\n",
    "img_c1= c1.squeeze(0)\n",
    "for i in  range(img_c1.shape[0]):\n",
    "    plt.subplot(161+i)\n",
    "    plt.imshow(img_c1[i,:,:],cmap='gray')\n",
    "plt.show() \n",
    "\n",
    "a1 = F.relu(c1)\n",
    "img_a1= a1.squeeze(0)\n",
    "for i in  range(img_a1.shape[0]):\n",
    "    plt.subplot(161+i)\n",
    "    plt.imshow(img_a1[i,:,:],cmap='gray')\n",
    "plt.show() \n",
    "\n",
    "s1 = F.max_pool2d(a1,2)\n",
    "img_s1= s1.squeeze(0)\n",
    "for i in  range(img_s1.shape[0]):\n",
    "    plt.subplot(161+i)\n",
    "    plt.imshow(img_s1[i,:,:],cmap='gray')\n",
    "plt.show()   "
   ]
  },
  {
   "cell_type": "code",
   "execution_count": 6,
   "id": "ceramic-symposium",
   "metadata": {},
   "outputs": [
    {
     "data": {
      "image/png": "[encoded data removed]",
      "text/plain": [
       "<Figure size 432x288 with 16 Axes>"
      ]
     },
     "metadata": {
      "needs_background": "light"
     },
     "output_type": "display_data"
    },
    {
     "data": {
      "image/png": "[encoded data removed]",
      "text/plain": [
       "<Figure size 432x288 with 16 Axes>"
      ]
     },
     "metadata": {
      "needs_background": "light"
     },
     "output_type": "display_data"
    },
    {
     "data": {
      "image/png": "[encoded data removed]",
      "text/plain": [
       "<Figure size 432x288 with 16 Axes>"
      ]
     },
     "metadata": {
      "needs_background": "light"
     },
     "output_type": "display_data"
    }
   ],
   "source": [
    "###### plt.figure()\n",
    "c2 = Variable(conv2(s1))\n",
    "img_c2= c2.squeeze(0)\n",
    "for i in  range(img_c2.shape[0]):\n",
    "    plt.subplot(4,4,1+i)\n",
    "    plt.imshow(img_c2[i,:,:],cmap='gray')\n",
    "plt.show() \n",
    "\n",
    "a2 = F.relu(c2)\n",
    "img_a2 = a2.squeeze(0)\n",
    "for i in  range(img_a2.shape[0]):\n",
    "    plt.subplot(4,4,1+i)\n",
    "    plt.imshow(img_a2[i,:,:],cmap='gray')\n",
    "plt.show() \n",
    "\n",
    "s2 = F.max_pool2d(a2,2)\n",
    "img_s2= s2.squeeze(0)\n",
    "for i in  range(img_s2.shape[0]):\n",
    "    plt.subplot(4,4,1+i)\n",
    "    plt.imshow(img_s2[i,:,:],cmap='gray')\n",
    "plt.show()   "
   ]
  },
  {
   "cell_type": "code",
   "execution_count": 7,
   "id": "naked-basic",
   "metadata": {},
   "outputs": [],
   "source": [
    "#进入fc前有个reshape过程\n",
    "fc1_in = s2.view(s2.size()[0],-1)   #N*C*W*H 变成N*CWH [1, 16, 4, 4]变[1,16*20*20]\n",
    "fc1_out_temp = fc1(fc1_in)\n",
    "fc1_out = F.relu(fc1_out_temp)\n"
   ]
  },
  {
   "cell_type": "code",
   "execution_count": 8,
   "id": "biblical-diesel",
   "metadata": {},
   "outputs": [],
   "source": [
    "fc2_in = fc1_out\n",
    "fc2_out_temp = fc2(fc2_in)\n",
    "fc2_out = F.relu(fc2_out_temp)"
   ]
  },
  {
   "cell_type": "code",
   "execution_count": 9,
   "id": "organized-screen",
   "metadata": {},
   "outputs": [
    {
     "data": {
      "text/plain": [
       "tensor([[ 0.0821, -0.0753, -0.0116, -0.0315,  0.0354,  0.0091, -0.0203,  0.0738,\n",
       "          0.0943, -0.0381]], grad_fn=<AddmmBackward>)"
      ]
     },
     "execution_count": 9,
     "metadata": {},
     "output_type": "execute_result"
    }
   ],
   "source": [
    "fc3_in = fc2_out\n",
    "fc3_out = fc3(fc3_in)\n",
    "fc3_out"
   ]
  },
  {
   "cell_type": "code",
   "execution_count": null,
   "id": "broad-brunswick",
   "metadata": {},
   "outputs": [],
   "source": []
  },
  {
   "cell_type": "code",
   "execution_count": null,
   "id": "cognitive-intro",
   "metadata": {},
   "outputs": [],
   "source": []
  }
 ],
 "metadata": {
  "kernelspec": {
   "display_name": "Python 3",
   "language": "python",
   "name": "python3"
  },
  "language_info": {
   "codemirror_mode": {
    "name": "ipython",
    "version": 3
   },
   "file_extension": ".py",
   "mimetype": "text/x-python",
   "name": "python",
   "nbconvert_exporter": "python",
   "pygments_lexer": "ipython3",
   "version": "3.7.9"
  }
 },
 "nbformat": 4,
 "nbformat_minor": 5
}
