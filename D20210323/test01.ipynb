{
 "cells": [
  {
   "cell_type": "code",
   "execution_count": 1,
   "id": "military-distribution",
   "metadata": {},
   "outputs": [],
   "source": [
    "import torch \n",
    "import os\n",
    "from PIL import Image\n",
    "import cv2\n",
    "import numpy as np\n",
    "import matplotlib\n",
    "matplotlib.use('TkAgg')\n",
    "import matplotlib.pyplot as plt\n",
    "%matplotlib inline\n",
    "traindata_root=\"E:/HardDisk/data/SSDD/rotated/rotation/train/target/000\"\n",
    "testdata_root=\"E:/HardDisk/data/SSDD/rotated/rotation/test/target/000\"\n",
    "# this function is for read image,the input is directory name\n",
    "def read_directory(directory_name):\n",
    "    array_of_img = [] # this if for store all of the image data\n",
    "    # this loop is for read each image in this foder,directory_name is the foder name with images.\n",
    "    for filename in os.listdir(directory_name):\n",
    "        #print(filename) #just for test\n",
    "        #img is used to store the image data \n",
    "        img = Image.open(directory_name + \"/\" + filename)\n",
    "        array_of_img.append(img)\n",
    "#         print(img)\n",
    "#         print(array_of_img)\n",
    "    return array_of_img\n",
    "train_img=read_directory(traindata_root)\n",
    "test_img=read_directory(testdata_root)"
   ]
  },
  {
   "cell_type": "code",
   "execution_count": null,
   "id": "downtown-delta",
   "metadata": {},
   "outputs": [],
   "source": [
    "#读取MNIST数据集\n",
    "import torch\n",
    "import torchvision\n",
    "import torchvision.transforms as transforms\n",
    "import matplotlib.pyplot as plt\n",
    "transform=transforms.Compose([transforms.ToTensor(),transforms.Normalize(0.5,0.5)])\n",
    "trainset=torchvision.datasets.MNIST(root='E:/HardDisk/data', train=True, download=False, transform=transform)\n",
    "trainloader=torch.utils.data.DataLoader(trainset, batch_size=1, shuffle=True, num_workers=1)\n",
    "# print(trainset[0].shape)\n",
    "# (data,label)=trainset[0]            trainset[0] 直接调用      trainset[0]会报错   下标数字太大\n",
    "dataiter=iter(trainloader)\n",
    "images,labels=next(dataiter)\n",
    "print(type(labels))"
   ]
  },
  {
   "cell_type": "code",
   "execution_count": 2,
   "id": "sunrise-strike",
   "metadata": {},
   "outputs": [],
   "source": [
    "#calculate correlation coefficients\n",
    "def aHash(img):\n",
    "    # 均值哈希算法\n",
    "    # 缩放为8*8\n",
    "    img = cv2.resize(img, (8, 8))\n",
    "    # 转换为灰度图\n",
    "    gray = cv2.cvtColor(img, cv2.COLOR_BGR2GRAY)\n",
    "    # s为像素和初值为0，hash_str为hash值初值为''\n",
    "    s = 0\n",
    "    hash_str = ''\n",
    "    # 遍历累加求像素和\n",
    "    for i in range(8):\n",
    "        for j in range(8):\n",
    "            s = s + gray[i, j]\n",
    "    # 求平均灰度\n",
    "    avg = s / 64\n",
    "    # 灰度大于平均值为1相反为0生成图片的hash值\n",
    "    for i in range(8):\n",
    "        for j in range(8):\n",
    "            if gray[i, j] > avg:\n",
    "                hash_str = hash_str + '1'\n",
    "            else:\n",
    "                hash_str = hash_str + '0'\n",
    "    return hash_str\n",
    "def dHash(img):\n",
    "    # 差值哈希算法\n",
    "    # 缩放8*8\n",
    "    img = cv2.resize(img, (9, 8))\n",
    "    # 转换灰度图\n",
    "    gray = cv2.cvtColor(img, cv2.COLOR_BGR2GRAY)\n",
    "    hash_str = ''\n",
    "    # 每行前一个像素大于后一个像素为1，相反为0，生成哈希\n",
    "    for i in range(8):\n",
    "        for j in range(8):\n",
    "            if gray[i, j] > gray[i, j + 1]:\n",
    "                hash_str = hash_str + '1'\n",
    "            else:\n",
    "                hash_str = hash_str + '0'\n",
    "    return hash_str\n",
    "def pHash(img):\n",
    "    # 感知哈希算法\n",
    "    # 缩放32*32\n",
    "    img = cv2.resize(img, (32, 32))  # , interpolation=cv2.INTER_CUBIC\n",
    "\n",
    "    # 转换为灰度图\n",
    "    gray = cv2.cvtColor(img, cv2.COLOR_BGR2GRAY)\n",
    "    # 将灰度图转为浮点型，再进行dct变换\n",
    "    dct = cv2.dct(np.float32(gray))\n",
    "    # opencv实现的掩码操作\n",
    "    dct_roi = dct[0:8, 0:8]\n",
    "\n",
    "    hash = []\n",
    "    avreage = np.mean(dct_roi)\n",
    "    for i in range(dct_roi.shape[0]):\n",
    "        for j in range(dct_roi.shape[1]):\n",
    "            if dct_roi[i, j] > avreage:\n",
    "                hash.append(1)\n",
    "            else:\n",
    "                hash.append(0)\n",
    "    return hash\n",
    "def calculate(image1, image2):\n",
    "    # 灰度直方图算法\n",
    "    # 计算单通道的直方图的相似值\n",
    "    hist1 = cv2.calcHist([image1], [0], None, [256], [0.0, 255.0])\n",
    "    hist2 = cv2.calcHist([image2], [0], None, [256], [0.0, 255.0])\n",
    "    # 计算直方图的重合度\n",
    "    degree = 0\n",
    "    for i in range(len(hist1)):\n",
    "        if hist1[i] != hist2[i]:\n",
    "            degree = degree + \\\n",
    "                     (1 - abs(hist1[i] - hist2[i]) / max(hist1[i], hist2[i]))\n",
    "        else:\n",
    "            degree = degree + 1\n",
    "    degree = degree / len(hist1)\n",
    "    return degree\n",
    "def classify_hist_with_split(image1, image2, size=(256, 256)):\n",
    "    # RGB每个通道的直方图相似度\n",
    "    # 将图像resize后，分离为RGB三个通道，再计算每个通道的相似值\n",
    "    image1 = cv2.resize(image1, size)\n",
    "    image2 = cv2.resize(image2, size)\n",
    "    sub_image1 = cv2.split(image1)\n",
    "    sub_image2 = cv2.split(image2)\n",
    "    sub_data = 0\n",
    "    for im1, im2 in zip(sub_image1, sub_image2):\n",
    "        sub_data += calculate(im1, im2)\n",
    "    sub_data = sub_data / 3\n",
    "    return sub_data\n",
    "def cmpHash(hash1, hash2):\n",
    "    # Hash值对比\n",
    "    # 算法中1和0顺序组合起来的即是图片的指纹hash。顺序不固定，但是比较的时候必须是相同的顺序。\n",
    "    # 对比两幅图的指纹，计算汉明距离，即两个64位的hash值有多少是不一样的，不同的位数越小，图片越相似\n",
    "    # 汉明距离：一组二进制数据变成另一组数据所需要的步骤，可以衡量两图的差异，汉明距离越小，则相似度越高。汉明距离为0，即两张图片完全一样\n",
    "    n = 0\n",
    "    # hash长度不同则返回-1代表传参出错\n",
    "    if len(hash1) != len(hash2):\n",
    "        return -1\n",
    "    # 遍历判断\n",
    "    for i in range(len(hash1)):\n",
    "        # 不相等则n计数+1，n最终为相似度\n",
    "        if hash1[i] != hash2[i]:\n",
    "            n = n + 1\n",
    "    return n\n",
    "def getImageByUrl(url):\n",
    "    # 根据图片url 获取图片对象\n",
    "    html = requests.get(url, verify=False)\n",
    "    image = Image.open(BytesIO(html.content))\n",
    "    return image\n",
    "def PILImageToCV():\n",
    "    # PIL Image转换成OpenCV格式\n",
    "    path = \"/Users/waldenz/Documents/Work/doc/TestImages/t3.png\"\n",
    "    img = Image.open(path)\n",
    "    plt.subplot(121)\n",
    "    plt.imshow(img)\n",
    "    print(isinstance(img, np.ndarray))\n",
    "    img = cv2.cvtColor(np.asarray(img), cv2.COLOR_RGB2BGR)\n",
    "    print(isinstance(img, np.ndarray))\n",
    "    plt.subplot(122)\n",
    "    plt.imshow(img)\n",
    "    plt.show()\n",
    "def CVImageToPIL():\n",
    "    # OpenCV图片转换为PIL image\n",
    "    path = \"/Users/waldenz/Documents/Work/doc/TestImages/t3.png\"\n",
    "    img = cv2.imread(path)\n",
    "    # cv2.imshow(\"OpenCV\",img)\n",
    "    plt.subplot(121)\n",
    "    plt.imshow(img)\n",
    "\n",
    "    img2 = Image.fromarray(cv2.cvtColor(img, cv2.COLOR_BGR2RGB))\n",
    "    plt.subplot(122)\n",
    "    plt.imshow(img2)\n",
    "    plt.show()\n",
    "def bytes_to_cvimage(filebytes):\n",
    "    # 图片字节流转换为cv image\n",
    "    image = Image.open(filebytes)\n",
    "    img = cv2.cvtColor(np.asarray(image), cv2.COLOR_RGB2BGR)\n",
    "    return img"
   ]
  },
  {
   "cell_type": "code",
   "execution_count": 3,
   "id": "romantic-disco",
   "metadata": {},
   "outputs": [],
   "source": [
    "n5=[]\n",
    "# for i in np.arange(len(test_img)):\n",
    "for i in np.arange(1):\n",
    "    for j in np.arange(len(train_img)):\n",
    "        width = test_img[i].size[0]\n",
    "        height = test_img[i].size[1]\n",
    "        train_img_resize = train_img[j].resize((width,height),Image.ANTIALIAS)\n",
    "        img1 = np.asarray(test_img[i])#PIL格式转ndarray\n",
    "        img2 = np.asarray(train_img_resize)\n",
    "        n5.append(calculate(img1, img2))\n",
    "\n",
    "    "
   ]
  },
  {
   "cell_type": "code",
   "execution_count": 4,
   "id": "synthetic-playing",
   "metadata": {},
   "outputs": [
    {
     "data": {
      "text/plain": [
       "([<matplotlib.axis.YTick at 0x26f7f3f8ec8>,\n",
       "  <matplotlib.axis.YTick at 0x26f7f4402c8>,\n",
       "  <matplotlib.axis.YTick at 0x26f7f489d88>,\n",
       "  <matplotlib.axis.YTick at 0x26f7f26b188>,\n",
       "  <matplotlib.axis.YTick at 0x26f7f23d048>,\n",
       "  <matplotlib.axis.YTick at 0x26f7f20fec8>,\n",
       "  <matplotlib.axis.YTick at 0x26f7f1e1088>,\n",
       "  <matplotlib.axis.YTick at 0x26f7f1b2bc8>,\n",
       "  <matplotlib.axis.YTick at 0x26f7f184748>],\n",
       " [Text(0, 0, ''),\n",
       "  Text(0, 0, ''),\n",
       "  Text(0, 0, ''),\n",
       "  Text(0, 0, ''),\n",
       "  Text(0, 0, ''),\n",
       "  Text(0, 0, ''),\n",
       "  Text(0, 0, ''),\n",
       "  Text(0, 0, ''),\n",
       "  Text(0, 0, '')])"
      ]
     },
     "execution_count": 4,
     "metadata": {},
     "output_type": "execute_result"
    },
    {
     "data": {
      "image/png": "[encoded data removed]",
      "text/plain": [
       "<Figure size 432x288 with 1 Axes>"
      ]
     },
     "metadata": {
      "needs_background": "light"
     },
     "output_type": "display_data"
    }
   ],
   "source": [
    "s=0\n",
    "plt.rcParams['xtick.direction'] = 'in'\n",
    "plt.rcParams['ytick.direction'] = 'in'\n",
    "font1 = {'family': 'Times New Roman',\n",
    "         'weight': 'normal',\n",
    "         'size': 20,\n",
    "         }\n",
    "plt.xlabel('R',font1)\n",
    "plt.ylabel('CC',font1)\n",
    "plt.tick_params(axis='both', which='major', labelsize=14)\n",
    "plt.plot(np.arange(s,len(train_img),1),n5,color=(0,0.5,1), linewidth=1.5)\n",
    "plt.grid(True)\n",
    "plt.xticks(np.arange(s,len(train_img), 500))\n",
    "plt.yticks(np.arange(0.2,0.6+0.05,0.05))\n",
    "# plt.xlim([s,2])"
   ]
  },
  {
   "cell_type": "code",
   "execution_count": 20,
   "id": "settled-water",
   "metadata": {},
   "outputs": [
    {
     "data": {
      "image/png": "[encoded data removed]",
      "text/plain": [
       "<Figure size 432x288 with 1 Axes>"
      ]
     },
     "metadata": {
      "needs_background": "light"
     },
     "output_type": "display_data"
    },
    {
     "data": {
      "image/png": "[encoded data removed]",
      "text/plain": [
       "<Figure size 432x288 with 1 Axes>"
      ]
     },
     "metadata": {
      "needs_background": "light"
     },
     "output_type": "display_data"
    }
   ],
   "source": [
    "#第一张测试图片\n",
    "plt.figure()\n",
    "plt.imshow(test_img[0])\n",
    "plt.show()\n",
    "plt.figure()\n",
    "#训练集中 与第一张测试图片CC最高的图像\n",
    "index_of_max_value=n5.index(max(n5))\n",
    "plt.imshow(train_img[index_of_max_value])\n",
    "plt.show()"
   ]
  },
  {
   "cell_type": "code",
   "execution_count": 17,
   "id": "derived-slave",
   "metadata": {},
   "outputs": [
    {
     "data": {
      "image/png": "[encoded data removed]",
      "text/plain": [
       "<Figure size 432x288 with 1 Axes>"
      ]
     },
     "metadata": {
      "needs_background": "light"
     },
     "output_type": "display_data"
    }
   ],
   "source": [
    "index_of_max_value=n5.index(max(n5))\n",
    "plt.imshow(train_img[index_of_max_value])\n",
    "plt.show()"
   ]
  },
  {
   "cell_type": "code",
   "execution_count": null,
   "id": "adequate-dollar",
   "metadata": {},
   "outputs": [],
   "source": []
  }
 ],
 "metadata": {
  "kernelspec": {
   "display_name": "Python 3",
   "language": "python",
   "name": "python3"
  },
  "language_info": {
   "codemirror_mode": {
    "name": "ipython",
    "version": 3
   },
   "file_extension": ".py",
   "mimetype": "text/x-python",
   "name": "python",
   "nbconvert_exporter": "python",
   "pygments_lexer": "ipython3",
   "version": "3.7.9"
  }
 },
 "nbformat": 4,
 "nbformat_minor": 5
}
