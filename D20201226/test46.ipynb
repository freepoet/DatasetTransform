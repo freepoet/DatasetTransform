{
 "cells": [
  {
   "cell_type": "code",
   "execution_count": 1,
   "metadata": {},
   "outputs": [
    {
     "data": {
      "text/plain": [
       "Net(\n",
       "  (submodel1): Linear(in_features=3, out_features=4, bias=True)\n",
       ")"
      ]
     },
     "execution_count": 1,
     "metadata": {},
     "output_type": "execute_result"
    }
   ],
   "source": [
    "import torch as t\n",
    "import torch.nn as nn\n",
    "from torch.autograd import Variable as V\n",
    "class Net(nn.Module):\n",
    "    def __init__(self):\n",
    "        super(Net,self).__init__()\n",
    "        self.param1=nn.Parameter(t.rand(3,3))\n",
    "        self.submodel1=nn.Linear(3,4)\n",
    "    def forward(self,input):\n",
    "        x=self.param1@input                           ####没看懂\n",
    "        x=self.submodel1(x)\n",
    "        return x\n",
    "net=Net()\n",
    "net"
   ]
  },
  {
   "cell_type": "code",
   "execution_count": 2,
   "metadata": {},
   "outputs": [
    {
     "data": {
      "text/plain": [
       "tensor([[0.9654, 0.4470, 0.8164],\n",
       "        [0.6350, 0.5947, 0.7899],\n",
       "        [0.3980, 0.9574, 0.0808]])"
      ]
     },
     "execution_count": 2,
     "metadata": {},
     "output_type": "execute_result"
    }
   ],
   "source": [
    "import torch as t\n",
    "a=t.rand(3,3)\n",
    "a"
   ]
  },
  {
   "cell_type": "code",
   "execution_count": 3,
   "metadata": {},
   "outputs": [
    {
     "data": {
      "text/plain": [
       "OrderedDict([('submodel1', Linear(in_features=3, out_features=4, bias=True))])"
      ]
     },
     "execution_count": 3,
     "metadata": {},
     "output_type": "execute_result"
    }
   ],
   "source": [
    "net._modules"
   ]
  },
  {
   "cell_type": "code",
   "execution_count": 4,
   "metadata": {},
   "outputs": [
    {
     "data": {
      "text/plain": [
       "OrderedDict([('param1',\n",
       "              Parameter containing:\n",
       "              tensor([[0.4229, 0.1939, 0.5243],\n",
       "                      [0.3223, 0.4883, 0.1610],\n",
       "                      [0.1469, 0.6190, 0.7634]], requires_grad=True))])"
      ]
     },
     "execution_count": 4,
     "metadata": {},
     "output_type": "execute_result"
    }
   ],
   "source": [
    "net._parameters"
   ]
  },
  {
   "cell_type": "code",
   "execution_count": 5,
   "metadata": {},
   "outputs": [
    {
     "data": {
      "text/plain": [
       "Parameter containing:\n",
       "tensor([[0.4229, 0.1939, 0.5243],\n",
       "        [0.3223, 0.4883, 0.1610],\n",
       "        [0.1469, 0.6190, 0.7634]], requires_grad=True)"
      ]
     },
     "execution_count": 5,
     "metadata": {},
     "output_type": "execute_result"
    }
   ],
   "source": [
    "net.param1"
   ]
  },
  {
   "cell_type": "code",
   "execution_count": 6,
   "metadata": {},
   "outputs": [
    {
     "data": {
      "text/plain": [
       "Parameter containing:\n",
       "tensor([[0.4229, 0.1939, 0.5243],\n",
       "        [0.3223, 0.4883, 0.1610],\n",
       "        [0.1469, 0.6190, 0.7634]], requires_grad=True)"
      ]
     },
     "execution_count": 6,
     "metadata": {},
     "output_type": "execute_result"
    }
   ],
   "source": [
    "net._parameters['param1']"
   ]
  },
  {
   "cell_type": "code",
   "execution_count": 7,
   "metadata": {},
   "outputs": [
    {
     "name": "stdout",
     "output_type": "stream",
     "text": [
      "param1 torch.Size([3, 3])\n",
      "submodel1.weight torch.Size([4, 3])\n",
      "submodel1.bias torch.Size([4])\n"
     ]
    }
   ],
   "source": [
    "for name,param in net.named_parameters():\n",
    "    print(name,param.size())"
   ]
  },
  {
   "cell_type": "code",
   "execution_count": 8,
   "metadata": {},
   "outputs": [
    {
     "name": "stdout",
     "output_type": "stream",
     "text": [
      " Net(\n",
      "  (submodel1): Linear(in_features=3, out_features=4, bias=True)\n",
      ")\n",
      "submodel1 Linear(in_features=3, out_features=4, bias=True)\n"
     ]
    }
   ],
   "source": [
    "for  name,model in net.named_modules():\n",
    "    print(name,model)"
   ]
  },
  {
   "cell_type": "code",
   "execution_count": 9,
   "metadata": {},
   "outputs": [
    {
     "name": "stdout",
     "output_type": "stream",
     "text": [
      "tensor([[0.8097, 0.6734],\n",
      "        [0.6179, 0.6596],\n",
      "        [0.4878, 0.5501]], requires_grad=True)\n",
      "tensor([[ 1.2947,  0.8266],\n",
      "        [-0.1554,  0.5779],\n",
      "        [-1.1393, -1.4046]], grad_fn=<NativeBatchNormBackward>)\n",
      "OrderedDict([('running_mean', tensor([0.0638, 0.0628])), ('running_var', tensor([0.9026, 0.9005])), ('num_batches_tracked', tensor(1))])\n"
     ]
    }
   ],
   "source": [
    "bn=nn.BatchNorm1d(2)\n",
    "input=V(t.rand(3,2),requires_grad=True)\n",
    "print(input)\n",
    "output=bn(input)\n",
    "print(output)\n",
    "print(bn._buffers)"
   ]
  },
  {
   "cell_type": "code",
   "execution_count": 10,
   "metadata": {},
   "outputs": [
    {
     "name": "stdout",
     "output_type": "stream",
     "text": [
      "tensor([[ 0.,  1.,  2.,  3.],\n",
      "        [ 4.,  5.,  6.,  7.],\n",
      "        [ 8.,  9., 10., 11.]])\n",
      "tensor([[ 0.,  0.,  4.,  0.],\n",
      "        [ 8.,  0., 12.,  0.],\n",
      "        [16., 18.,  0., 22.]])\n"
     ]
    }
   ],
   "source": [
    "input=V(t.arange(0,12,1.0).view(3,4))\n",
    "print(input)\n",
    "dropout=nn.Dropout(0.5,inplace=False)\n",
    "output=dropout(input)\n",
    "print(output)\n"
   ]
  },
  {
   "cell_type": "code",
   "execution_count": 11,
   "metadata": {},
   "outputs": [
    {
     "name": "stdout",
     "output_type": "stream",
     "text": [
      "tensor([[ 0.,  1.,  2.,  3.],\n",
      "        [ 4.,  5.,  6.,  7.],\n",
      "        [ 8.,  9., 10., 11.]])\n"
     ]
    }
   ],
   "source": [
    "dropout.training=False\n",
    "output=dropout(input)\n",
    "print(output)"
   ]
  },
  {
   "cell_type": "code",
   "execution_count": 12,
   "metadata": {},
   "outputs": [
    {
     "name": "stdout",
     "output_type": "stream",
     "text": [
      "True True\n",
      "False False\n"
     ]
    }
   ],
   "source": [
    "net.train()\n",
    "print(net.training,net.submodel1.training)\n",
    "net.eval()\n",
    "print(net.training,net.submodel1.training)"
   ]
  },
  {
   "cell_type": "code",
   "execution_count": 13,
   "metadata": {},
   "outputs": [],
   "source": [
    "\n",
    "class VGG(nn.Module):\n",
    "    def __init__(self,num_classes=1000):\n",
    "        super(VGG,self).__init__()\n",
    "        layers=[]\n",
    "        in_dim=3\n",
    "        out_dim=64\n",
    "        for i in range(13):\n",
    "            layers+=[nn.Conv2d(in_dim,out_dim,3,1,1),nn.ReLU(inplace=True)]\n",
    "            in_dim=out_dim\n",
    "            if i ==1 or i ==3 or i ==6 or i ==9 or i ==12 :\n",
    "                layers+=[nn.MaxPool2d(2,2)]\n",
    "                if i!=9:\n",
    "                    out_dim=out_dim*2\n",
    "        self.features=nn.Sequential(*layers)\n",
    "        self.classifier=nn.Sequential(\n",
    "            nn.Linear(512*7*7,4096),\n",
    "            nn.ReLU(True),\n",
    "            nn.Dropout(),\n",
    "            nn.Linear(4096,4096),\n",
    "            nn.ReLU(True),\n",
    "            nn.Dropout(),\n",
    "            nn.Linear(4096, num_classes),\n",
    "\n",
    "        )\n",
    "    def forward(self,x):\n",
    "        x=self.features(x)\n",
    "        x=x.view(x.size(0),-1)\n",
    "        x = self.classifier(x)\n",
    "        return x"
   ]
  },
  {
   "cell_type": "code",
   "execution_count": 14,
   "metadata": {},
   "outputs": [
    {
     "name": "stdout",
     "output_type": "stream",
     "text": [
      "VGG(\n",
      "  (features): Sequential(\n",
      "    (0): Conv2d(3, 64, kernel_size=(3, 3), stride=(1, 1), padding=(1, 1))\n",
      "    (1): ReLU(inplace=True)\n",
      "    (2): Conv2d(64, 64, kernel_size=(3, 3), stride=(1, 1), padding=(1, 1))\n",
      "    (3): ReLU(inplace=True)\n",
      "    (4): MaxPool2d(kernel_size=2, stride=2, padding=0, dilation=1, ceil_mode=False)\n",
      "    (5): Conv2d(64, 128, kernel_size=(3, 3), stride=(1, 1), padding=(1, 1))\n",
      "    (6): ReLU(inplace=True)\n",
      "    (7): Conv2d(128, 128, kernel_size=(3, 3), stride=(1, 1), padding=(1, 1))\n",
      "    (8): ReLU(inplace=True)\n",
      "    (9): MaxPool2d(kernel_size=2, stride=2, padding=0, dilation=1, ceil_mode=False)\n",
      "    (10): Conv2d(128, 256, kernel_size=(3, 3), stride=(1, 1), padding=(1, 1))\n",
      "    (11): ReLU(inplace=True)\n",
      "    (12): Conv2d(256, 256, kernel_size=(3, 3), stride=(1, 1), padding=(1, 1))\n",
      "    (13): ReLU(inplace=True)\n",
      "    (14): Conv2d(256, 256, kernel_size=(3, 3), stride=(1, 1), padding=(1, 1))\n",
      "    (15): ReLU(inplace=True)\n",
      "    (16): MaxPool2d(kernel_size=2, stride=2, padding=0, dilation=1, ceil_mode=False)\n",
      "    (17): Conv2d(256, 512, kernel_size=(3, 3), stride=(1, 1), padding=(1, 1))\n",
      "    (18): ReLU(inplace=True)\n",
      "    (19): Conv2d(512, 512, kernel_size=(3, 3), stride=(1, 1), padding=(1, 1))\n",
      "    (20): ReLU(inplace=True)\n",
      "    (21): Conv2d(512, 512, kernel_size=(3, 3), stride=(1, 1), padding=(1, 1))\n",
      "    (22): ReLU(inplace=True)\n",
      "    (23): MaxPool2d(kernel_size=2, stride=2, padding=0, dilation=1, ceil_mode=False)\n",
      "    (24): Conv2d(512, 512, kernel_size=(3, 3), stride=(1, 1), padding=(1, 1))\n",
      "    (25): ReLU(inplace=True)\n",
      "    (26): Conv2d(512, 512, kernel_size=(3, 3), stride=(1, 1), padding=(1, 1))\n",
      "    (27): ReLU(inplace=True)\n",
      "    (28): Conv2d(512, 512, kernel_size=(3, 3), stride=(1, 1), padding=(1, 1))\n",
      "    (29): ReLU(inplace=True)\n",
      "    (30): MaxPool2d(kernel_size=2, stride=2, padding=0, dilation=1, ceil_mode=False)\n",
      "  )\n",
      "  (classifier): Sequential(\n",
      "    (0): Linear(in_features=25088, out_features=4096, bias=True)\n",
      "    (1): ReLU(inplace=True)\n",
      "    (2): Dropout(p=0.5, inplace=False)\n",
      "    (3): Linear(in_features=4096, out_features=4096, bias=True)\n",
      "    (4): ReLU(inplace=True)\n",
      "    (5): Dropout(p=0.5, inplace=False)\n",
      "    (6): Linear(in_features=4096, out_features=10, bias=True)\n",
      "  )\n",
      ")\n"
     ]
    },
    {
     "data": {
      "text/plain": [
       "Conv2d(3, 64, kernel_size=(3, 3), stride=(1, 1), padding=(1, 1))"
      ]
     },
     "execution_count": 14,
     "metadata": {},
     "output_type": "execute_result"
    }
   ],
   "source": [
    "model=VGG(10)\n",
    "print(model)\n",
    "model.features[0]"
   ]
  },
  {
   "cell_type": "code",
   "execution_count": 15,
   "metadata": {},
   "outputs": [
    {
     "name": "stdout",
     "output_type": "stream",
     "text": [
      "ResNet(\n",
      "  (conv1): Conv2d(3, 64, kernel_size=(7, 7), stride=(2, 2), padding=(3, 3), bias=False)\n",
      "  (bn1): BatchNorm2d(64, eps=1e-05, momentum=0.1, affine=True, track_running_stats=True)\n",
      "  (relu): ReLU(inplace=True)\n",
      "  (maxpool): MaxPool2d(kernel_size=3, stride=2, padding=1, dilation=1, ceil_mode=False)\n",
      "  (layer1): Sequential(\n",
      "    (0): BasicBlock(\n",
      "      (conv1): Conv2d(64, 64, kernel_size=(3, 3), stride=(1, 1), padding=(1, 1), bias=False)\n",
      "      (bn1): BatchNorm2d(64, eps=1e-05, momentum=0.1, affine=True, track_running_stats=True)\n",
      "      (relu): ReLU(inplace=True)\n",
      "      (conv2): Conv2d(64, 64, kernel_size=(3, 3), stride=(1, 1), padding=(1, 1), bias=False)\n",
      "      (bn2): BatchNorm2d(64, eps=1e-05, momentum=0.1, affine=True, track_running_stats=True)\n",
      "    )\n",
      "    (1): BasicBlock(\n",
      "      (conv1): Conv2d(64, 64, kernel_size=(3, 3), stride=(1, 1), padding=(1, 1), bias=False)\n",
      "      (bn1): BatchNorm2d(64, eps=1e-05, momentum=0.1, affine=True, track_running_stats=True)\n",
      "      (relu): ReLU(inplace=True)\n",
      "      (conv2): Conv2d(64, 64, kernel_size=(3, 3), stride=(1, 1), padding=(1, 1), bias=False)\n",
      "      (bn2): BatchNorm2d(64, eps=1e-05, momentum=0.1, affine=True, track_running_stats=True)\n",
      "    )\n",
      "  )\n",
      "  (layer2): Sequential(\n",
      "    (0): BasicBlock(\n",
      "      (conv1): Conv2d(64, 128, kernel_size=(3, 3), stride=(2, 2), padding=(1, 1), bias=False)\n",
      "      (bn1): BatchNorm2d(128, eps=1e-05, momentum=0.1, affine=True, track_running_stats=True)\n",
      "      (relu): ReLU(inplace=True)\n",
      "      (conv2): Conv2d(128, 128, kernel_size=(3, 3), stride=(1, 1), padding=(1, 1), bias=False)\n",
      "      (bn2): BatchNorm2d(128, eps=1e-05, momentum=0.1, affine=True, track_running_stats=True)\n",
      "      (downsample): Sequential(\n",
      "        (0): Conv2d(64, 128, kernel_size=(1, 1), stride=(2, 2), bias=False)\n",
      "        (1): BatchNorm2d(128, eps=1e-05, momentum=0.1, affine=True, track_running_stats=True)\n",
      "      )\n",
      "    )\n",
      "    (1): BasicBlock(\n",
      "      (conv1): Conv2d(128, 128, kernel_size=(3, 3), stride=(1, 1), padding=(1, 1), bias=False)\n",
      "      (bn1): BatchNorm2d(128, eps=1e-05, momentum=0.1, affine=True, track_running_stats=True)\n",
      "      (relu): ReLU(inplace=True)\n",
      "      (conv2): Conv2d(128, 128, kernel_size=(3, 3), stride=(1, 1), padding=(1, 1), bias=False)\n",
      "      (bn2): BatchNorm2d(128, eps=1e-05, momentum=0.1, affine=True, track_running_stats=True)\n",
      "    )\n",
      "  )\n",
      "  (layer3): Sequential(\n",
      "    (0): BasicBlock(\n",
      "      (conv1): Conv2d(128, 256, kernel_size=(3, 3), stride=(2, 2), padding=(1, 1), bias=False)\n",
      "      (bn1): BatchNorm2d(256, eps=1e-05, momentum=0.1, affine=True, track_running_stats=True)\n",
      "      (relu): ReLU(inplace=True)\n",
      "      (conv2): Conv2d(256, 256, kernel_size=(3, 3), stride=(1, 1), padding=(1, 1), bias=False)\n",
      "      (bn2): BatchNorm2d(256, eps=1e-05, momentum=0.1, affine=True, track_running_stats=True)\n",
      "      (downsample): Sequential(\n",
      "        (0): Conv2d(128, 256, kernel_size=(1, 1), stride=(2, 2), bias=False)\n",
      "        (1): BatchNorm2d(256, eps=1e-05, momentum=0.1, affine=True, track_running_stats=True)\n",
      "      )\n",
      "    )\n",
      "    (1): BasicBlock(\n",
      "      (conv1): Conv2d(256, 256, kernel_size=(3, 3), stride=(1, 1), padding=(1, 1), bias=False)\n",
      "      (bn1): BatchNorm2d(256, eps=1e-05, momentum=0.1, affine=True, track_running_stats=True)\n",
      "      (relu): ReLU(inplace=True)\n",
      "      (conv2): Conv2d(256, 256, kernel_size=(3, 3), stride=(1, 1), padding=(1, 1), bias=False)\n",
      "      (bn2): BatchNorm2d(256, eps=1e-05, momentum=0.1, affine=True, track_running_stats=True)\n",
      "    )\n",
      "  )\n",
      "  (layer4): Sequential(\n",
      "    (0): BasicBlock(\n",
      "      (conv1): Conv2d(256, 512, kernel_size=(3, 3), stride=(2, 2), padding=(1, 1), bias=False)\n",
      "      (bn1): BatchNorm2d(512, eps=1e-05, momentum=0.1, affine=True, track_running_stats=True)\n",
      "      (relu): ReLU(inplace=True)\n",
      "      (conv2): Conv2d(512, 512, kernel_size=(3, 3), stride=(1, 1), padding=(1, 1), bias=False)\n",
      "      (bn2): BatchNorm2d(512, eps=1e-05, momentum=0.1, affine=True, track_running_stats=True)\n",
      "      (downsample): Sequential(\n",
      "        (0): Conv2d(256, 512, kernel_size=(1, 1), stride=(2, 2), bias=False)\n",
      "        (1): BatchNorm2d(512, eps=1e-05, momentum=0.1, affine=True, track_running_stats=True)\n",
      "      )\n",
      "    )\n",
      "    (1): BasicBlock(\n",
      "      (conv1): Conv2d(512, 512, kernel_size=(3, 3), stride=(1, 1), padding=(1, 1), bias=False)\n",
      "      (bn1): BatchNorm2d(512, eps=1e-05, momentum=0.1, affine=True, track_running_stats=True)\n",
      "      (relu): ReLU(inplace=True)\n",
      "      (conv2): Conv2d(512, 512, kernel_size=(3, 3), stride=(1, 1), padding=(1, 1), bias=False)\n",
      "      (bn2): BatchNorm2d(512, eps=1e-05, momentum=0.1, affine=True, track_running_stats=True)\n",
      "    )\n",
      "  )\n",
      "  (avgpool): AdaptiveAvgPool2d(output_size=(1, 1))\n",
      "  (fc): Linear(in_features=512, out_features=1000, bias=True)\n",
      ")\n",
      "Sequential(\n",
      "  (0): BasicBlock(\n",
      "    (conv1): Conv2d(64, 64, kernel_size=(3, 3), stride=(1, 1), padding=(1, 1), bias=False)\n",
      "    (bn1): BatchNorm2d(64, eps=1e-05, momentum=0.1, affine=True, track_running_stats=True)\n",
      "    (relu): ReLU(inplace=True)\n",
      "    (conv2): Conv2d(64, 64, kernel_size=(3, 3), stride=(1, 1), padding=(1, 1), bias=False)\n",
      "    (bn2): BatchNorm2d(64, eps=1e-05, momentum=0.1, affine=True, track_running_stats=True)\n",
      "  )\n",
      "  (1): BasicBlock(\n",
      "    (conv1): Conv2d(64, 64, kernel_size=(3, 3), stride=(1, 1), padding=(1, 1), bias=False)\n",
      "    (bn1): BatchNorm2d(64, eps=1e-05, momentum=0.1, affine=True, track_running_stats=True)\n",
      "    (relu): ReLU(inplace=True)\n",
      "    (conv2): Conv2d(64, 64, kernel_size=(3, 3), stride=(1, 1), padding=(1, 1), bias=False)\n",
      "    (bn2): BatchNorm2d(64, eps=1e-05, momentum=0.1, affine=True, track_running_stats=True)\n",
      "  )\n",
      ")\n"
     ]
    }
   ],
   "source": [
    "from torchvision import models\n",
    "model_vision=models.resnet18()\n",
    "print(model_vision)\n",
    "print(model_vision.layer1)"
   ]
  },
  {
   "cell_type": "code",
   "execution_count": 16,
   "metadata": {},
   "outputs": [
    {
     "name": "stdout",
     "output_type": "stream",
     "text": [
      "hooker working\n",
      "[(tensor([[[[2.4395, 2.4395, 0.8226,  ..., 1.3585, 1.3585, 0.3031],\n",
      "          [2.4395, 2.4395, 1.6206,  ..., 1.3585, 1.3585, 1.1862],\n",
      "          [2.6118, 2.6118, 1.6206,  ..., 1.3096, 2.7709, 2.7709],\n",
      "          ...,\n",
      "          [2.1057, 1.3046, 1.1924,  ..., 1.0106, 0.4196, 0.6698],\n",
      "          [1.3739, 1.1609, 1.1924,  ..., 0.6886, 1.2327, 1.2327],\n",
      "          [2.6918, 2.6918, 1.2930,  ..., 1.6630, 2.2309, 2.2309]],\n",
      "\n",
      "         [[0.9042, 0.4002, 0.0000,  ..., 1.1256, 0.6720, 0.0000],\n",
      "          [0.9042, 0.2524, 2.6517,  ..., 1.8323, 1.8323, 0.6253],\n",
      "          [0.5601, 1.8687, 2.6517,  ..., 1.8323, 1.8323, 1.3493],\n",
      "          ...,\n",
      "          [0.7499, 0.9198, 1.1154,  ..., 1.7535, 0.5058, 0.5352],\n",
      "          [0.7697, 0.9134, 1.2735,  ..., 1.7535, 1.2930, 1.2930],\n",
      "          [0.4527, 1.4107, 1.2735,  ..., 0.9796, 2.1058, 2.1058]],\n",
      "\n",
      "         [[3.3223, 3.3223, 2.1590,  ..., 1.5863, 3.2830, 3.2830],\n",
      "          [3.3223, 3.3223, 2.1590,  ..., 1.5863, 3.2830, 3.2830],\n",
      "          [2.7311, 2.7311, 1.2340,  ..., 1.4005, 1.4005, 0.9820],\n",
      "          ...,\n",
      "          [2.0080, 1.1461, 1.5688,  ..., 0.9193, 1.4682, 1.3410],\n",
      "          [2.0140, 2.0140, 1.5121,  ..., 0.9193, 1.3410, 1.5506],\n",
      "          [2.7329, 2.1424, 2.1424,  ..., 1.5701, 2.1343, 2.1152]],\n",
      "\n",
      "         ...,\n",
      "\n",
      "         [[1.3218, 1.3218, 0.7865,  ..., 0.5622, 1.8661, 1.8661],\n",
      "          [1.3218, 1.3218, 1.2234,  ..., 0.5622, 1.8661, 2.1211],\n",
      "          [0.0000, 1.2234, 1.2234,  ..., 1.1631, 1.1461, 2.1211],\n",
      "          ...,\n",
      "          [0.4599, 1.6360, 1.1519,  ..., 2.3002, 1.3645, 1.6169],\n",
      "          [0.4599, 0.5396, 1.6518,  ..., 2.3002, 1.3645, 1.6169],\n",
      "          [0.0053, 0.5396, 1.6518,  ..., 0.8707, 0.2998, 3.0145]],\n",
      "\n",
      "         [[0.3729, 0.3729, 1.1387,  ..., 0.8701, 0.7618, 1.6506],\n",
      "          [0.3729, 1.9101, 1.9101,  ..., 1.4744, 0.7618, 1.6506],\n",
      "          [0.8690, 1.2446, 1.2446,  ..., 1.4744, 0.7077, 0.9610],\n",
      "          ...,\n",
      "          [1.9434, 1.9434, 1.6099,  ..., 1.7688, 1.2350, 1.2350],\n",
      "          [0.3451, 1.6150, 0.4969,  ..., 1.0972, 0.8966, 1.6841],\n",
      "          [1.1390, 1.6150, 1.6793,  ..., 1.4556, 1.4556, 1.6841]],\n",
      "\n",
      "         [[2.7737, 1.2155, 2.5687,  ..., 1.5959, 1.3643, 1.8135],\n",
      "          [2.7737, 1.8092, 2.5687,  ..., 1.5959, 1.3643, 1.8135],\n",
      "          [2.2752, 2.2752, 1.8092,  ..., 1.0939, 0.3159, 1.0438],\n",
      "          ...,\n",
      "          [2.5363, 1.2630, 1.7541,  ..., 0.8161, 1.8894, 1.8894],\n",
      "          [2.2434, 2.3188, 1.7541,  ..., 0.9666, 1.8894, 1.9452],\n",
      "          [2.6235, 2.6235, 0.5408,  ..., 1.3627, 1.3627, 1.2926]]]],\n",
      "       grad_fn=<MaxPool2DWithIndicesBackward>),)]\n",
      "[tensor([[[[0.3847, 2.1969, 1.3707,  ..., 0.4614, 0.9882, 0.0000],\n",
      "          [1.3382, 1.3044, 0.0241,  ..., 1.2278, 0.0000, 0.0000],\n",
      "          [0.8844, 0.0000, 1.2660,  ..., 0.1204, 0.7519, 0.0000],\n",
      "          ...,\n",
      "          [0.0000, 0.0000, 0.0000,  ..., 0.1493, 0.0000, 0.2119],\n",
      "          [0.0000, 1.2669, 0.0000,  ..., 0.3023, 0.8242, 0.0000],\n",
      "          [2.1303, 4.5303, 0.0000,  ..., 2.0987, 3.4944, 2.4984]],\n",
      "\n",
      "         [[0.0000, 0.0000, 0.0000,  ..., 0.0000, 0.0000, 0.0000],\n",
      "          [2.1410, 1.8164, 3.0052,  ..., 2.1365, 1.1720, 0.0000],\n",
      "          [2.5375, 1.9205, 1.5279,  ..., 3.6766, 2.1648, 1.2647],\n",
      "          ...,\n",
      "          [2.0371, 0.0000, 0.3788,  ..., 2.2105, 0.2690, 1.3118],\n",
      "          [1.2305, 4.9024, 5.3785,  ..., 3.0649, 0.4722, 0.1501],\n",
      "          [0.0000, 2.0326, 1.0144,  ..., 0.0000, 0.0000, 0.0000]],\n",
      "\n",
      "         [[2.8198, 1.4647, 1.2849,  ..., 0.0660, 0.8025, 1.9355],\n",
      "          [3.6554, 2.0606, 2.1235,  ..., 2.4128, 0.8459, 5.3693],\n",
      "          [2.3357, 3.3220, 3.2921,  ..., 1.9908, 0.0376, 1.9481],\n",
      "          ...,\n",
      "          [2.7050, 1.1511, 2.3497,  ..., 0.8661, 0.9979, 4.0894],\n",
      "          [4.8760, 2.2067, 3.2683,  ..., 0.8079, 0.0000, 3.2552],\n",
      "          [4.3607, 3.1051, 3.1578,  ..., 0.4146, 2.7986, 3.5495]],\n",
      "\n",
      "         ...,\n",
      "\n",
      "         [[3.0537, 1.1081, 3.7519,  ..., 1.9479, 5.0892, 1.4171],\n",
      "          [2.2984, 0.0709, 2.5032,  ..., 0.6625, 3.8645, 0.0000],\n",
      "          [0.0000, 0.2855, 1.0753,  ..., 1.1611, 1.6491, 0.0000],\n",
      "          ...,\n",
      "          [0.1637, 1.4210, 0.0000,  ..., 1.3769, 0.4899, 0.0000],\n",
      "          [0.0000, 0.0000, 1.7127,  ..., 3.4960, 4.7901, 2.3989],\n",
      "          [0.0000, 0.0000, 0.0000,  ..., 0.9414, 0.0000, 0.0000]],\n",
      "\n",
      "         [[2.1054, 2.6315, 3.7099,  ..., 0.7103, 2.1942, 4.7802],\n",
      "          [1.2332, 3.0278, 2.1731,  ..., 0.1035, 1.0486, 5.1821],\n",
      "          [2.1967, 2.2083, 1.1083,  ..., 0.2917, 1.2217, 3.6370],\n",
      "          ...,\n",
      "          [3.9810, 2.0108, 2.8591,  ..., 1.9911, 1.5981, 4.2326],\n",
      "          [2.2457, 3.8915, 1.2787,  ..., 3.5748, 0.2427, 5.7983],\n",
      "          [1.4175, 3.6320, 0.3306,  ..., 0.6106, 2.2990, 4.0298]],\n",
      "\n",
      "         [[3.7719, 0.0000, 0.8364,  ..., 0.4794, 0.0000, 0.9142],\n",
      "          [2.0612, 2.1743, 0.1487,  ..., 2.9913, 0.0000, 0.4692],\n",
      "          [0.8939, 1.9019, 1.8146,  ..., 0.0000, 1.0039, 0.4434],\n",
      "          ...,\n",
      "          [3.5687, 3.2534, 3.8138,  ..., 3.4320, 0.0000, 1.2344],\n",
      "          [1.4343, 4.0736, 3.0581,  ..., 0.0000, 0.5619, 3.1987],\n",
      "          [3.2332, 3.4188, 0.0000,  ..., 0.0114, 0.4267, 1.5970]]]],\n",
      "       grad_fn=<ReluBackward1>)]\n"
     ]
    }
   ],
   "source": [
    "#hook机制。不改变网络的定义代码，也不需要在forward函数中return某个感兴趣层的输出\n",
    "features_in_hook = []\n",
    "features_out_hook = []\n",
    "\n",
    "temp1=t.Tensor()\n",
    "temp2=t.Tensor()\n",
    "in1=t.rand(1,3,256,256)\n",
    "# print(input)\n",
    "\n",
    "def hook(module,fea_in,fea_out):      #用户可以自行决定拦截了中间信息之后要做什么\n",
    "    print(\"hooker working\")\n",
    "    features_in_hook.append(fea_in)  #原地操作\n",
    "    features_out_hook.append(fea_out)  #原地操作\n",
    "handle=model_vision.layer1.register_forward_hook(hook)\n",
    "_ =model_vision(in1)\n",
    "handle.remove()\n",
    "print(features_in_hook)\n",
    "print(features_out_hook)"
   ]
  },
  {
   "cell_type": "code",
   "execution_count": 17,
   "metadata": {},
   "outputs": [
    {
     "data": {
      "text/plain": [
       "OrderedDict([('param',\n",
       "              Parameter containing:\n",
       "              tensor([[1., 1.],\n",
       "                      [1., 1.]], requires_grad=True))])"
      ]
     },
     "execution_count": 17,
     "metadata": {},
     "output_type": "execute_result"
    }
   ],
   "source": [
    "module=nn.Module()\n",
    "module.param=nn.Parameter(t.ones(2,2))\n",
    "module._parameters"
   ]
  },
  {
   "cell_type": "code",
   "execution_count": 18,
   "metadata": {},
   "outputs": [
    {
     "name": "stdout",
     "output_type": "stream",
     "text": [
      "OrderedDict()\n"
     ]
    }
   ],
   "source": [
    "submodule1=nn.Linear(2,2)\n",
    "submodule2=nn.Linear(2,2)\n",
    "module_list=[submodule1,submodule2]\n",
    "module.submodules=module_list\n",
    "print(module._modules)"
   ]
  },
  {
   "cell_type": "code",
   "execution_count": 19,
   "metadata": {},
   "outputs": [
    {
     "name": "stdout",
     "output_type": "stream",
     "text": [
      "[Linear(in_features=2, out_features=2, bias=True), Linear(in_features=2, out_features=2, bias=True)]\n"
     ]
    }
   ],
   "source": [
    "print(module.__dict__.get('submodules'))"
   ]
  },
  {
   "cell_type": "code",
   "execution_count": 20,
   "metadata": {},
   "outputs": [
    {
     "name": "stdout",
     "output_type": "stream",
     "text": [
      "True\n"
     ]
    }
   ],
   "source": [
    "module_list=nn.ModuleList(module_list)\n",
    "module.submodules=module_list\n",
    "#isinstance() 函数来判断一个对象是否是一个已知的类型\n",
    "print(isinstance(module_list,nn.Module))"
   ]
  },
  {
   "cell_type": "code",
   "execution_count": 21,
   "metadata": {},
   "outputs": [
    {
     "name": "stdout",
     "output_type": "stream",
     "text": [
      "OrderedDict([('submodules', ModuleList(\n",
      "  (0): Linear(in_features=2, out_features=2, bias=True)\n",
      "  (1): Linear(in_features=2, out_features=2, bias=True)\n",
      "))])\n"
     ]
    }
   ],
   "source": [
    "print(module._modules)"
   ]
  },
  {
   "cell_type": "code",
   "execution_count": 22,
   "metadata": {},
   "outputs": [
    {
     "name": "stdout",
     "output_type": "stream",
     "text": [
      "None\n"
     ]
    }
   ],
   "source": [
    "print(module.__dict__.get('submodules'))"
   ]
  },
  {
   "cell_type": "code",
   "execution_count": 23,
   "metadata": {},
   "outputs": [
    {
     "data": {
      "text/plain": [
       "True"
      ]
     },
     "execution_count": 23,
     "metadata": {},
     "output_type": "execute_result"
    }
   ],
   "source": [
    "getattr(module,'training')"
   ]
  },
  {
   "cell_type": "code",
   "execution_count": 24,
   "metadata": {},
   "outputs": [
    {
     "data": {
      "text/plain": [
       "2"
      ]
     },
     "execution_count": 24,
     "metadata": {},
     "output_type": "execute_result"
    }
   ],
   "source": [
    "module.attr1=2\n",
    "getattr(module,'attr1')"
   ]
  }
 ],
 "metadata": {
  "kernelspec": {
   "display_name": "Python 3",
   "language": "python",
   "name": "python3"
  },
  "language_info": {
   "codemirror_mode": {
    "name": "ipython",
    "version": 3
   },
   "file_extension": ".py",
   "mimetype": "text/x-python",
   "name": "python",
   "nbconvert_exporter": "python",
   "pygments_lexer": "ipython3",
   "version": "3.7.9"
  }
 },
 "nbformat": 4,
 "nbformat_minor": 4
}
