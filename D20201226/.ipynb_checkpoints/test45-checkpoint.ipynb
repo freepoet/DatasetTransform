{
 "cells": [
  {
   "cell_type": "code",
   "execution_count": 1,
   "metadata": {},
   "outputs": [
    {
     "name": "stdout",
     "output_type": "stream",
     "text": [
      "Parameter containing:\n",
      "tensor([[-0.5169, -0.5274, -0.3203],\n",
      "        [-0.3098,  0.0382, -0.1640],\n",
      "        [ 0.2102,  0.3734,  0.1077],\n",
      "        [ 0.3038, -0.2041, -0.2119]], requires_grad=True)\n"
     ]
    }
   ],
   "source": [
    "\n",
    "\n",
    "#初始化策略\n",
    "import torch.nn as nn\n",
    "import torch as t\n",
    "from torch.nn import init\n",
    "linear=nn.Linear(3,4)\n",
    "print(linear.weight)\n",
    "t.manual_seed(1)\n",
    "init.xavier_normal(linear.weight)"
   ]
  },
  {
   "cell_type": "code",
   "execution_count": 3,
   "metadata": {},
   "outputs": [
    {
     "data": {
      "text/plain": [
       "tensor([[-0.5493, -0.3010, -0.4769],\n",
       "        [-0.0311, -0.1045, -0.5162],\n",
       "        [ 0.2258,  0.1429, -0.2251],\n",
       "        [-0.2730, -0.8406, -0.0659]])"
      ]
     },
     "execution_count": 3,
     "metadata": {},
     "output_type": "execute_result"
    }
   ],
   "source": [
    "import math\n",
    "t.manual_seed(1)\n",
    "std=math.sqrt(2)/math.sqrt(7.)\n",
    "linear=nn.Linear(3,4)\n",
    "linear.weight.data.normal_(0,std)"
   ]
  }
 ],
 "metadata": {
  "kernelspec": {
   "display_name": "Python 3",
   "language": "python",
   "name": "python3"
  },
  "language_info": {
   "codemirror_mode": {
    "name": "ipython",
    "version": 3
   },
   "file_extension": ".py",
   "mimetype": "text/x-python",
   "name": "python",
   "nbconvert_exporter": "python",
   "pygments_lexer": "ipython3",
   "version": "3.7.9"
  }
 },
 "nbformat": 4,
 "nbformat_minor": 4
}
