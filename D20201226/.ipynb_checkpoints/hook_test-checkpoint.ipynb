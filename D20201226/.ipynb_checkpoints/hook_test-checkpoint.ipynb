{
 "cells": [
  {
   "cell_type": "code",
   "execution_count": 1,
   "metadata": {},
   "outputs": [
    {
     "name": "stdout",
     "output_type": "stream",
     "text": [
      "TestForHook(\n",
      "  (linear_1): Linear(in_features=2, out_features=2, bias=True)\n",
      "  (linear_2): Linear(in_features=2, out_features=1, bias=True)\n",
      "  (relu): ReLU()\n",
      "  (relu6): ReLU6()\n",
      ")\n"
     ]
    }
   ],
   "source": [
    "#目的不改变网络的定义代码，也不需要在forward函数中return某个感兴趣层的输出\n",
    "#register_forward_hook()函数必须在forward（）函数调用之前被使用\n",
    "\n",
    "# example \n",
    "import torch\n",
    "import torch.nn as nn\n",
    "class TestForHook(nn.Module):\n",
    "    def __init__(self):\n",
    "        super().__init__()\n",
    "        self.linear_1 = nn.Linear(in_features=2, out_features=2)\n",
    "        self.linear_2 = nn.Linear(in_features=2, out_features=1)\n",
    "        self.relu = nn.ReLU()\n",
    "        self.relu6 = nn.ReLU6()      #ReLU6(x)=min(max(0,x),6)   值域0--6\n",
    "        self.initialize()  #调用initialize函数对所有层进行初始化。\n",
    "\n",
    "    def forward(self, x):\n",
    "        linear_1 = self.linear_1(x)\n",
    "        linear_2 = self.linear_2(linear_1)\n",
    "        relu = self.relu(linear_2)\n",
    "        relu_6 = self.relu6(relu)\n",
    "        layers_in = (x, linear_1, linear_2)\n",
    "        layers_out = (linear_1, linear_2, relu)\n",
    "        return relu_6, layers_in, layers_out\n",
    "    def initialize(self):\n",
    "        \"\"\" 定义特殊的初始化，用于验证是不是获取了权重\"\"\"\n",
    "        self.linear_1.weight = torch.nn.Parameter(torch.FloatTensor([[1, 1], [1, 1]]))\n",
    "        self.linear_1.bias = torch.nn.Parameter(torch.FloatTensor([1, 1]))\n",
    "        self.linear_2.weight = torch.nn.Parameter(torch.FloatTensor([[1, 1]]))\n",
    "        self.linear_2.bias = torch.nn.Parameter(torch.FloatTensor([1]))\n",
    "        return True\n",
    "# 定义用于获取网络各层输入输出tensor的容器,并定义module_name用于记录相应的module名字\n",
    "module_name = []\n",
    "features_in_hook = []\n",
    "features_out_hook = []\n",
    "\n",
    "# hook函数负责将获取的输入输出添加到feature列表中,并提供相应的module名字\n",
    "# fea_in当前forward 的输入,fea_out当前forward的输出\n",
    "def hook(module, fea_in, fea_out):  # hook,自己定义钩子函数的名字\n",
    "    print(\"hooker working\")\n",
    "    module_name.append(module.__class__)\n",
    "    features_in_hook.append(fea_in)\n",
    "    features_out_hook.append(fea_out)\n",
    "    return None\n",
    "# children()与modules()都是返回网络模型里的组成元素，\n",
    "# 但是children()返回的是最外层的元素，modules()返回的是所有的元素，包括不同级别的子元素。\n",
    "net = TestForHook()\n",
    "net_chilren = net.children()   #iterator\n",
    "print(net)"
   ]
  },
  {
   "cell_type": "code",
   "execution_count": 2,
   "metadata": {},
   "outputs": [],
   "source": [
    "for child in net_chilren:\n",
    "    if not isinstance(child, nn.ReLU6):  #除了ReLU6  其余的都注册\n",
    "        # register_forward_hook, pytorch 提供钩子注册函数\n",
    "        child.register_forward_hook(hook=hook)"
   ]
  },
  {
   "cell_type": "code",
   "execution_count": 3,
   "metadata": {},
   "outputs": [
    {
     "name": "stdout",
     "output_type": "stream",
     "text": [
      "tensor([[0.7218, 0.2633],\n",
      "        [0.9596, 0.3500]])\n",
      "hooker working\n",
      "hooker working\n",
      "hooker working\n"
     ]
    }
   ],
   "source": [
    "x=torch.rand(2,2)\n",
    "print(x)\n",
    "out, features_in_forward, features_out_forward = net(x)"
   ]
  },
  {
   "cell_type": "code",
   "execution_count": 4,
   "metadata": {},
   "outputs": [
    {
     "data": {
      "text/plain": [
       "tensor([[4.9701],\n",
       "        [5.6192]], grad_fn=<HardtanhBackward0>)"
      ]
     },
     "execution_count": 4,
     "metadata": {},
     "output_type": "execute_result"
    }
   ],
   "source": [
    "out"
   ]
  },
  {
   "cell_type": "code",
   "execution_count": 5,
   "metadata": {},
   "outputs": [
    {
     "name": "stdout",
     "output_type": "stream",
     "text": [
      "*****test\n"
     ]
    },
    {
     "data": {
      "text/plain": [
       "(tensor([[0.7218, 0.2633],\n",
       "         [0.9596, 0.3500]]),\n",
       " tensor([[1.9851, 1.9851],\n",
       "         [2.3096, 2.3096]], grad_fn=<AddmmBackward>),\n",
       " tensor([[4.9701],\n",
       "         [5.6192]], grad_fn=<AddmmBackward>))"
      ]
     },
     "execution_count": 5,
     "metadata": {},
     "output_type": "execute_result"
    }
   ],
   "source": [
    "print(\"*\"*5+\"test\")\n",
    "features_in_forward"
   ]
  },
  {
   "cell_type": "code",
   "execution_count": 6,
   "metadata": {},
   "outputs": [
    {
     "data": {
      "text/plain": [
       "(tensor([[1.9851, 1.9851],\n",
       "         [2.3096, 2.3096]], grad_fn=<AddmmBackward>),\n",
       " tensor([[4.9701],\n",
       "         [5.6192]], grad_fn=<AddmmBackward>),\n",
       " tensor([[4.9701],\n",
       "         [5.6192]], grad_fn=<ReluBackward0>))"
      ]
     },
     "execution_count": 6,
     "metadata": {},
     "output_type": "execute_result"
    }
   ],
   "source": [
    "features_out_forward"
   ]
  },
  {
   "cell_type": "code",
   "execution_count": 7,
   "metadata": {},
   "outputs": [
    {
     "name": "stdout",
     "output_type": "stream",
     "text": [
      "[(tensor([[0.7218, 0.2633],\n",
      "        [0.9596, 0.3500]]),), (tensor([[1.9851, 1.9851],\n",
      "        [2.3096, 2.3096]], grad_fn=<AddmmBackward>),), (tensor([[4.9701],\n",
      "        [5.6192]], grad_fn=<AddmmBackward>),)]\n",
      "[tensor([[1.9851, 1.9851],\n",
      "        [2.3096, 2.3096]], grad_fn=<AddmmBackward>), tensor([[4.9701],\n",
      "        [5.6192]], grad_fn=<AddmmBackward>), tensor([[4.9701],\n",
      "        [5.6192]], grad_fn=<ReluBackward0>)]\n",
      "[<class 'torch.nn.modules.linear.Linear'>, <class 'torch.nn.modules.linear.Linear'>, <class 'torch.nn.modules.activation.ReLU'>]\n"
     ]
    }
   ],
   "source": [
    "print(features_in_hook)\n",
    "print(features_out_hook)\n",
    "print(module_name)"
   ]
  }
 ],
 "metadata": {
  "kernelspec": {
   "display_name": "Python 3",
   "language": "python",
   "name": "python3"
  },
  "language_info": {
   "codemirror_mode": {
    "name": "ipython",
    "version": 3
   },
   "file_extension": ".py",
   "mimetype": "text/x-python",
   "name": "python",
   "nbconvert_exporter": "python",
   "pygments_lexer": "ipython3",
   "version": "3.7.9"
  }
 },
 "nbformat": 4,
 "nbformat_minor": 4
}
