{
 "cells": [
  {
   "cell_type": "code",
   "execution_count": 1,
   "metadata": {},
   "outputs": [],
   "source": [
    "# decorator\n",
    "def printFuncName(func):\n",
    "    def decorator(*args, **kwargs):   # tuple list \n",
    "#         *args 与 **kwargs 参数，这是必须的， *args 表示所有的位置参数，\n",
    "#          **kwargs 表示所有的关键字参数。\n",
    "#         之后再将其传到 func函数中， 这样保证了能完全传递所有参数。\n",
    "        print(f\"\\033[33mcall {func.__name__}\\033[0m\")\n",
    "        return func(*args, **kwargs)\n",
    "    return decorator"
   ]
  },
  {
   "cell_type": "code",
   "execution_count": 2,
   "metadata": {},
   "outputs": [],
   "source": [
    "def decorator(func):  # 装饰func 增加功能\n",
    "    def wrapper(*args, **kwargs):  # wrapper包装器  包装纸\n",
    "        print('123')\n",
    "        return func(*args, **kwargs)\n",
    "\n",
    "    return wrapper\n",
    "\n",
    "def say_hello():\n",
    "    print('同学你好')\n",
    "            "
   ]
  },
  {
   "cell_type": "code",
   "execution_count": 3,
   "metadata": {},
   "outputs": [
    {
     "name": "stdout",
     "output_type": "stream",
     "text": [
      "同学你好\n"
     ]
    }
   ],
   "source": [
    "say_hello()"
   ]
  },
  {
   "cell_type": "code",
   "execution_count": 4,
   "metadata": {},
   "outputs": [
    {
     "name": "stdout",
     "output_type": "stream",
     "text": [
      "123\n",
      "同学你好\n"
     ]
    }
   ],
   "source": [
    "say_hello_super=decorator(say_hello)\n",
    "say_hello_super()"
   ]
  },
  {
   "cell_type": "code",
   "execution_count": 5,
   "metadata": {},
   "outputs": [
    {
     "name": "stdout",
     "output_type": "stream",
     "text": [
      "123\n",
      "同学你好\n"
     ]
    }
   ],
   "source": [
    "say_hello=decorator(say_hello)\n",
    "say_hello()"
   ]
  },
  {
   "cell_type": "code",
   "execution_count": 6,
   "metadata": {},
   "outputs": [
    {
     "name": "stdout",
     "output_type": "stream",
     "text": [
      "123\n",
      "同学你好\n"
     ]
    }
   ],
   "source": [
    "def decorator(func):\n",
    "    def wrapper(*args, **kwargs):\n",
    "        print('123')\n",
    "        return func(*args, **kwargs)\n",
    "\n",
    "    return wrapper\n",
    "\n",
    "@decorator \n",
    "# @decorator 相当于在定义函数后执行了一条语句，say_hello = decorator(say_hello) 。\n",
    "def say_hello():\n",
    "    print('同学你好')\n",
    "\n",
    "say_hello()  # say_hello被装饰了  不是简单的print('同学你好')\n",
    "\n"
   ]
  },
  {
   "cell_type": "code",
   "execution_count": 7,
   "metadata": {},
   "outputs": [
    {
     "name": "stdout",
     "output_type": "stream",
     "text": [
      "456\n",
      "同学你好\n"
     ]
    }
   ],
   "source": [
    "# 带参数的装饰器\n",
    "\n",
    "def info(value):\n",
    "    def decorator(func):\n",
    "        def wrapper(*args, **kwargs):\n",
    "            print(value)\n",
    "            return func(*args, **kwargs)\n",
    "        return wrapper\n",
    "    return decorator\n",
    "\n",
    "@info('456')\n",
    "def say_hello():\n",
    "    print('同学你好')\n",
    "\n",
    "say_hello()\n"
   ]
  },
  {
   "cell_type": "code",
   "execution_count": 8,
   "metadata": {},
   "outputs": [
    {
     "name": "stdout",
     "output_type": "stream",
     "text": [
      "say_hello\n",
      "hahahaha\n"
     ]
    }
   ],
   "source": [
    "def say_hello():\n",
    "    \"\"\"hahahaha\"\"\"\n",
    "    print('同学你好')\n",
    "\n",
    "print(say_hello.__name__)\n",
    "print(say_hello.__doc__)"
   ]
  },
  {
   "cell_type": "code",
   "execution_count": 9,
   "metadata": {},
   "outputs": [
    {
     "name": "stdout",
     "output_type": "stream",
     "text": [
      "wrapper\n",
      "doc of wrapper\n"
     ]
    }
   ],
   "source": [
    "# 一个函数不止有他的执行语句，\n",
    "# 还有着 __name__（函数名），__doc__ （说明文档）等属性，decorator会导致这些属性改变。\n",
    "def decorator(func):\n",
    "    def wrapper(*args, **kwargs):\n",
    "        \"\"\"doc of wrapper\"\"\"\n",
    "        print('123')\n",
    "        return func(*args, **kwargs)\n",
    "\n",
    "    return wrapper\n",
    "\n",
    "@decorator\n",
    "def say_hello():\n",
    "    \"\"\"hahahaha\"\"\"\n",
    "    print('同学你好')\n",
    "\n",
    "print(say_hello.__name__)\n",
    "print(say_hello.__doc__)\n",
    "\n"
   ]
  },
  {
   "cell_type": "code",
   "execution_count": 10,
   "metadata": {},
   "outputs": [
    {
     "name": "stdout",
     "output_type": "stream",
     "text": [
      "我是 Demo\n"
     ]
    }
   ],
   "source": [
    "# 当我们调用一个对象时，实际上调用的是它的 __call__ 方法。\n",
    "class Demo:\n",
    "    def __call__(self):\n",
    "        print('我是 Demo')\n",
    "\n",
    "demo = Demo()\n",
    "demo()"
   ]
  },
  {
   "cell_type": "code",
   "execution_count": 11,
   "metadata": {},
   "outputs": [
    {
     "name": "stdout",
     "output_type": "stream",
     "text": [
      "123\n",
      "同学你好\n"
     ]
    }
   ],
   "source": [
    "class Decorator:\n",
    "    def __init__(self, func):\n",
    "        self.func = func\n",
    "\n",
    "    def __call__(self, *args, **kwargs):\n",
    "        print('123')\n",
    "        return self.func(*args, **kwargs)\n",
    "\n",
    "@Decorator\n",
    "def say_hello():\n",
    "    print('同学你好')\n",
    "\n",
    "say_hello()\n"
   ]
  }
 ],
 "metadata": {
  "kernelspec": {
   "display_name": "Python 3",
   "language": "python",
   "name": "python3"
  },
  "language_info": {
   "codemirror_mode": {
    "name": "ipython",
    "version": 3
   },
   "file_extension": ".py",
   "mimetype": "text/x-python",
   "name": "python",
   "nbconvert_exporter": "python",
   "pygments_lexer": "ipython3",
   "version": "3.7.10"
  }
 },
 "nbformat": 4,
 "nbformat_minor": 2
}
