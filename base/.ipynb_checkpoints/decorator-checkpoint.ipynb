{
 "cells": [
  {
   "cell_type": "code",
   "execution_count": 1,
   "metadata": {},
   "outputs": [],
   "source": [
    "def add(a : int, b : int):\n",
    "    return a + b\n",
    "\n",
    "def multiply(a : int, b : int):\n",
    "    return a * b\n",
    "\n",
    "def minus(a : int, b : int):\n",
    "    return a - b\n"
   ]
  },
  {
   "cell_type": "code",
   "execution_count": 2,
   "metadata": {},
   "outputs": [],
   "source": [
    "# decorator\n",
    "def printFuncName(func):\n",
    "    def decorator(*args, **kwargs):   # tuple list \n",
    "#         *args 与 **kwargs 参数，这是必须的， *args 表示所有的位置参数，\n",
    "#          **kwargs 表示所有的关键字参数。\n",
    "#         之后再将其传到 func函数中， 这样保证了能完全传递所有参数。\n",
    "        print(f\"\\033[33mcall {func.__name__}\\033[0m\")\n",
    "        return func(*args, **kwargs)\n",
    "    return decorator"
   ]
  },
  {
   "cell_type": "code",
   "execution_count": 3,
   "metadata": {},
   "outputs": [],
   "source": [
    "def decorator(func):  # 装饰func 增加功能\n",
    "    def wrapper(*args, **kwargs):  # wrapper包装器  包装纸\n",
    "        print('123')\n",
    "        return func(*args, **kwargs)\n",
    "\n",
    "    return wrapper\n",
    "\n",
    "def say_hello():\n",
    "    print('同学你好')\n",
    "            "
   ]
  },
  {
   "cell_type": "code",
   "execution_count": 4,
   "metadata": {},
   "outputs": [
    {
     "name": "stdout",
     "output_type": "stream",
     "text": [
      "同学你好\n"
     ]
    }
   ],
   "source": [
    "say_hello()"
   ]
  },
  {
   "cell_type": "code",
   "execution_count": 5,
   "metadata": {},
   "outputs": [
    {
     "name": "stdout",
     "output_type": "stream",
     "text": [
      "123\n",
      "同学你好\n"
     ]
    }
   ],
   "source": [
    "say_hello_super=decorator(say_hello)\n",
    "say_hello_super()"
   ]
  },
  {
   "cell_type": "code",
   "execution_count": 6,
   "metadata": {},
   "outputs": [
    {
     "name": "stdout",
     "output_type": "stream",
     "text": [
      "123\n",
      "同学你好\n"
     ]
    }
   ],
   "source": [
    "say_hello=decorator(say_hello)\n",
    "say_hello()"
   ]
  },
  {
   "cell_type": "code",
   "execution_count": 7,
   "metadata": {},
   "outputs": [
    {
     "name": "stdout",
     "output_type": "stream",
     "text": [
      "123\n",
      "同学你好\n"
     ]
    }
   ],
   "source": [
    "def decorator(func):\n",
    "    def wrapper(*args, **kwargs):\n",
    "        print('123')\n",
    "        return func(*args, **kwargs)\n",
    "\n",
    "    return wrapper\n",
    "\n",
    "@decorator \n",
    "# @decorator 相当于在定义函数后执行了一条语句，say_hello = decorator(say_hello) 。\n",
    "def say_hello():\n",
    "    print('同学你好')\n",
    "\n",
    "say_hello()  # say_hello被装饰了  不是简单的print('同学你好')\n",
    "\n"
   ]
  },
  {
   "cell_type": "code",
   "execution_count": 9,
   "metadata": {},
   "outputs": [
    {
     "name": "stdout",
     "output_type": "stream",
     "text": [
      "456\n",
      "同学你好\n"
     ]
    }
   ],
   "source": [
    "# 带参数的装饰器\n",
    "\n",
    "def info(value):\n",
    "    def decorator(func):\n",
    "        def wrapper(*args, **kwargs):\n",
    "            print(value)\n",
    "            return func(*args, **kwargs)\n",
    "        return wrapper\n",
    "    return decorator\n",
    "\n",
    "@info('456')\n",
    "def say_hello():\n",
    "    print('同学你好')\n",
    "\n",
    "say_hello()\n"
   ]
  },
  {
   "cell_type": "code",
   "execution_count": 10,
   "metadata": {},
   "outputs": [
    {
     "name": "stdout",
     "output_type": "stream",
     "text": [
      "我是 Demo\n"
     ]
    }
   ],
   "source": [
    "# 当我们调用一个对象时，实际上调用的是它的 __call__ 方法。\n",
    "class Demo:\n",
    "    def __call__(self):\n",
    "        print('我是 Demo')\n",
    "\n",
    "demo = Demo()\n",
    "demo()"
   ]
  },
  {
   "cell_type": "code",
   "execution_count": 11,
   "metadata": {},
   "outputs": [
    {
     "name": "stdout",
     "output_type": "stream",
     "text": [
      "123\n",
      "同学你好\n"
     ]
    }
   ],
   "source": [
    "class Decorator:\n",
    "    def __init__(self, func):\n",
    "        self.func = func\n",
    "\n",
    "    def __call__(self, *args, **kwargs):\n",
    "        print('123')\n",
    "        return self.func(*args, **kwargs)\n",
    "\n",
    "@Decorator\n",
    "def say_hello():\n",
    "    print('同学你好')\n",
    "\n",
    "say_hello()\n"
   ]
  },
  {
   "cell_type": "code",
   "execution_count": null,
   "metadata": {},
   "outputs": [],
   "source": []
  },
  {
   "cell_type": "code",
   "execution_count": null,
   "metadata": {},
   "outputs": [],
   "source": []
  },
  {
   "cell_type": "code",
   "execution_count": null,
   "metadata": {},
   "outputs": [],
   "source": []
  },
  {
   "cell_type": "code",
   "execution_count": null,
   "metadata": {},
   "outputs": [],
   "source": []
  },
  {
   "cell_type": "code",
   "execution_count": 8,
   "metadata": {},
   "outputs": [
    {
     "ename": "KeyError",
     "evalue": "\"No object named 'print_hello_word' found in 'registry_machine' registry!\"",
     "output_type": "error",
     "traceback": [
      "\u001b[0;31m---------------------------------------------------------------------------\u001b[0m",
      "\u001b[0;31mKeyError\u001b[0m                                  Traceback (most recent call last)",
      "\u001b[0;32m<ipython-input-8-fc63c6305b1c>\u001b[0m in \u001b[0;36m<module>\u001b[0;34m\u001b[0m\n\u001b[1;32m     59\u001b[0m \u001b[0;34m\u001b[0m\u001b[0m\n\u001b[1;32m     60\u001b[0m     \u001b[0mcfg1\u001b[0m \u001b[0;34m=\u001b[0m \u001b[0;34m'print_hello_word'\u001b[0m\u001b[0;34m\u001b[0m\u001b[0;34m\u001b[0m\u001b[0m\n\u001b[0;32m---> 61\u001b[0;31m     \u001b[0mregistry_machine\u001b[0m\u001b[0;34m.\u001b[0m\u001b[0mget\u001b[0m\u001b[0;34m(\u001b[0m\u001b[0mcfg1\u001b[0m\u001b[0;34m)\u001b[0m\u001b[0;34m(\u001b[0m\u001b[0;34m'world'\u001b[0m\u001b[0;34m)\u001b[0m\u001b[0;34m\u001b[0m\u001b[0;34m\u001b[0m\u001b[0m\n\u001b[0m\u001b[1;32m     62\u001b[0m \u001b[0;34m\u001b[0m\u001b[0m\n\u001b[1;32m     63\u001b[0m     \u001b[0mcfg2\u001b[0m \u001b[0;34m=\u001b[0m \u001b[0;34m'print_hi_word'\u001b[0m\u001b[0;34m\u001b[0m\u001b[0;34m\u001b[0m\u001b[0m\n",
      "\u001b[0;32m<ipython-input-8-fc63c6305b1c>\u001b[0m in \u001b[0;36mget\u001b[0;34m(self, name)\u001b[0m\n\u001b[1;32m     37\u001b[0m         \u001b[0mret\u001b[0m \u001b[0;34m=\u001b[0m \u001b[0mself\u001b[0m\u001b[0;34m.\u001b[0m\u001b[0m_obj_map\u001b[0m\u001b[0;34m.\u001b[0m\u001b[0mget\u001b[0m\u001b[0;34m(\u001b[0m\u001b[0mname\u001b[0m\u001b[0;34m)\u001b[0m\u001b[0;34m\u001b[0m\u001b[0;34m\u001b[0m\u001b[0m\n\u001b[1;32m     38\u001b[0m         \u001b[0;32mif\u001b[0m \u001b[0mret\u001b[0m \u001b[0;32mis\u001b[0m \u001b[0;32mNone\u001b[0m\u001b[0;34m:\u001b[0m\u001b[0;34m\u001b[0m\u001b[0;34m\u001b[0m\u001b[0m\n\u001b[0;32m---> 39\u001b[0;31m             \u001b[0;32mraise\u001b[0m \u001b[0mKeyError\u001b[0m\u001b[0;34m(\u001b[0m\u001b[0;34m\"No object named '{}' found in '{}' registry!\"\u001b[0m\u001b[0;34m.\u001b[0m\u001b[0mformat\u001b[0m\u001b[0;34m(\u001b[0m\u001b[0mname\u001b[0m\u001b[0;34m,\u001b[0m \u001b[0mself\u001b[0m\u001b[0;34m.\u001b[0m\u001b[0m_name\u001b[0m\u001b[0;34m)\u001b[0m\u001b[0;34m)\u001b[0m\u001b[0;34m\u001b[0m\u001b[0;34m\u001b[0m\u001b[0m\n\u001b[0m\u001b[1;32m     40\u001b[0m         \u001b[0;32mreturn\u001b[0m \u001b[0mret\u001b[0m\u001b[0;34m\u001b[0m\u001b[0;34m\u001b[0m\u001b[0m\n\u001b[1;32m     41\u001b[0m \u001b[0;34m\u001b[0m\u001b[0m\n",
      "\u001b[0;31mKeyError\u001b[0m: \"No object named 'print_hello_word' found in 'registry_machine' registry!\""
     ]
    }
   ],
   "source": [
    "class Registry(object):\n",
    "# Registry类似于一个dict（实际上是有一个_dict属性:_obj_map），可以set_item和get_item\n",
    "    def __init__(self, name):\n",
    "        \"\"\"\n",
    "        Args:\n",
    "            name (str): the name of this registry\n",
    "        \"\"\"\n",
    "        self._name = name\n",
    "#       self._dict = {}\n",
    "        self._obj_map = {}\n",
    " \n",
    "    def _do_register(self, name, obj):\n",
    "        assert (\n",
    "            name not in self._obj_map\n",
    "        ), \"An object named '{}' was already registered in '{}' registry!\".format(name, self._name)\n",
    "        self._obj_map[name] = obj\n",
    "#  register函数，它可以作为装饰器，注册一个函数或者一个类\n",
    "    def register(self, obj=None):\n",
    "        \"\"\"\n",
    "        Register the given object under the the name `obj.__name__`.\n",
    "        Can be used as either a decorator or not. See docstring of this class for usage.\n",
    "        \"\"\"\n",
    "        if obj is None:\n",
    "            # used as a decorator\n",
    "            def deco(func_or_class):\n",
    "                name = func_or_class.__name__\n",
    "                self._do_register(name, func_or_class)\n",
    "                return func_or_class\n",
    " \n",
    "            return deco\n",
    " \n",
    "        # used as a function call\n",
    "        name = obj.__name__\n",
    "        self._do_register(name, obj)\n",
    " \n",
    "    def get(self, name):\n",
    "        ret = self._obj_map.get(name)\n",
    "        if ret is None:\n",
    "            raise KeyError(\"No object named '{}' found in '{}' registry!\".format(name, self._name))\n",
    "        return ret\n",
    "\n",
    "\n",
    "registry_machine = Registry('registry_machine')   #可以在func后面对func进行传参\n",
    " \n",
    "registry_machine.register()\n",
    "def print_hello_world(word):\n",
    "    print('hello {}'.format(word))\n",
    " \n",
    " \n",
    "registry_machine.register()\n",
    "def print_hi_world(word):\n",
    "    print('hi {}'.format(word))\n",
    " \n",
    "\n",
    "\n",
    "\n",
    "\n",
    "if __name__ == '__main__':\n",
    " \n",
    "    cfg1 = 'print_hello_word'\n",
    "    registry_machine.get(cfg1)('world')\n",
    " \n",
    "    cfg2 = 'print_hi_word'\n",
    "    registry_machine.get(cfg2)('world')"
   ]
  }
 ],
 "metadata": {
  "kernelspec": {
   "display_name": "Python 3",
   "language": "python",
   "name": "python3"
  },
  "language_info": {
   "codemirror_mode": {
    "name": "ipython",
    "version": 3
   },
   "file_extension": ".py",
   "mimetype": "text/x-python",
   "name": "python",
   "nbconvert_exporter": "python",
   "pygments_lexer": "ipython3",
   "version": "3.7.4"
  }
 },
 "nbformat": 4,
 "nbformat_minor": 2
}
