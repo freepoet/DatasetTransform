{
 "cells": [
  {
   "cell_type": "code",
   "execution_count": 4,
   "metadata": {},
   "outputs": [
    {
     "name": "stdout",
     "output_type": "stream",
     "text": [
      "ning\n"
     ]
    }
   ],
   "source": [
    "\n",
    "class test:\n",
    "    _name = \"ning\"  #表面私有  实际上可访问  保护变量 类对象和子类对象自己能访问到这些变量；\n",
    "    __name = \"zhang\" # 表面/实际上均为私有  只能内部访问\n",
    " \n",
    "\n",
    "print(test._name)\n",
    "# print(test.__name)  #报错"
   ]
  },
  {
   "cell_type": "code",
   "execution_count": 7,
   "metadata": {},
   "outputs": [
    {
     "name": "stdout",
     "output_type": "stream",
     "text": [
      "ning\n"
     ]
    }
   ],
   "source": [
    "\n",
    "class test:\n",
    "    _name = \"ning\"  #表面私有  实际上可访问\n",
    "    __name = \"zhang\" # 表面/实际上均为私有  只能内部访问\n",
    "\n",
    "    # 可以定义如下方法get_name set__name  突破只能内部访问的限制\n",
    "    def get_name(self):\n",
    "        return self.__name\n",
    " \n",
    "    def  set__name(self, s):\n",
    "        self.__name = s\n",
    " \n",
    " \n",
    "print(test._name)\n",
    "# print(test.__name)\n",
    "\n"
   ]
  },
  {
   "cell_type": "code",
   "execution_count": 8,
   "metadata": {},
   "outputs": [
    {
     "name": "stdout",
     "output_type": "stream",
     "text": [
      "zhang\n"
     ]
    }
   ],
   "source": [
    " \n",
    "test_1 = test()\n",
    "print(test_1.get_name())\n",
    " \n"
   ]
  },
  {
   "cell_type": "code",
   "execution_count": 9,
   "metadata": {},
   "outputs": [
    {
     "name": "stdout",
     "output_type": "stream",
     "text": [
      "ma\n"
     ]
    }
   ],
   "source": [
    "s = \"ma\"\n",
    "test_1.set__name(s)\n",
    "print(test_1.get_name())"
   ]
  },
  {
   "cell_type": "code",
   "execution_count": 11,
   "metadata": {},
   "outputs": [
    {
     "name": "stdout",
     "output_type": "stream",
     "text": [
      "1 调用 __init__ 初始化（构造函数）\n"
     ]
    }
   ],
   "source": [
    "class Test:\n",
    "#   名称前后的双下划线是一种magic method，对Python系统来说，这将确保不会与用户自定义的名称冲突。通常，\n",
    "#  你将会覆写这些方法，并在里面实现你所需要的功能，以便Python调用它们。例如，当定义一个类时，你经常会覆写“init”方法\n",
    "    def __init__(self):  # 初始化（构造函数）\n",
    "        print(\"1 调用 __init__ 初始化（构造函数）\")\n",
    "        self._number = 33\n",
    " \n",
    "    def __len__(self):  # 用len取长度的特殊方法\n",
    "        print(\"2 调用 __len__ 取长度的特殊方法\")\n",
    "        return self._number\n",
    " \n",
    " \n",
    "test = Test()\n"
   ]
  },
  {
   "cell_type": "code",
   "execution_count": 12,
   "metadata": {},
   "outputs": [
    {
     "name": "stdout",
     "output_type": "stream",
     "text": [
      "2 调用 __len__ 取长度的特殊方法\n",
      "33\n"
     ]
    }
   ],
   "source": [
    "print(len(test))\n"
   ]
  },
  {
   "cell_type": "code",
   "execution_count": 13,
   "metadata": {},
   "outputs": [
    {
     "name": "stdout",
     "output_type": "stream",
     "text": [
      "2 调用 __len__ 取长度的特殊方法\n",
      "33\n"
     ]
    }
   ],
   "source": [
    "print(test.__len__())\n"
   ]
  },
  {
   "cell_type": "code",
   "execution_count": null,
   "metadata": {},
   "outputs": [],
   "source": []
  }
 ],
 "metadata": {
  "kernelspec": {
   "display_name": "Python 3",
   "language": "python",
   "name": "python3"
  },
  "language_info": {
   "codemirror_mode": {
    "name": "ipython",
    "version": 3
   },
   "file_extension": ".py",
   "mimetype": "text/x-python",
   "name": "python",
   "nbconvert_exporter": "python",
   "pygments_lexer": "ipython3",
   "version": "3.7.4"
  }
 },
 "nbformat": 4,
 "nbformat_minor": 2
}
