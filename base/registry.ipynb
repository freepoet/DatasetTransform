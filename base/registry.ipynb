{
 "cells": [
  {
   "cell_type": "code",
   "execution_count": 1,
   "id": "fe1127e0",
   "metadata": {},
   "outputs": [],
   "source": [
    "def add(a : int, b : int):\n",
    "    return a + b\n",
    "\n",
    "def multiply(a : int, b : int):\n",
    "    return a * b\n",
    "\n",
    "def minus(a : int, b : int):\n",
    "    return a - b\n"
   ]
  },
  {
   "cell_type": "code",
   "execution_count": 2,
   "id": "a055836d",
   "metadata": {},
   "outputs": [],
   "source": [
    "def PrintFuncName(func):\n",
    "    def decorator(*args,**kwargs):\n",
    "        print(func.__name__)\n",
    "        return func(*args,**kwargs)\n",
    "    return decorator"
   ]
  },
  {
   "cell_type": "code",
   "execution_count": 3,
   "id": "07b69e21",
   "metadata": {},
   "outputs": [
    {
     "name": "stdout",
     "output_type": "stream",
     "text": [
      "add\n",
      "3\n",
      "multiply\n",
      "2\n",
      "minus\n",
      "-1\n"
     ]
    }
   ],
   "source": [
    "@PrintFuncName\n",
    "def add(a : int, b : int):\n",
    "    return a + b\n",
    "\n",
    "@PrintFuncName\n",
    "def multiply(a : int, b : int):\n",
    "    return a * b\n",
    "\n",
    "@PrintFuncName\n",
    "def minus(a : int, b : int):\n",
    "    return a - b\n",
    "\n",
    "print(add(1, 2))\n",
    "print(multiply(1, 2))\n",
    "print(minus(1, 2))"
   ]
  },
  {
   "cell_type": "code",
   "execution_count": 4,
   "id": "4a97dba3",
   "metadata": {},
   "outputs": [
    {
     "name": "stdout",
     "output_type": "stream",
     "text": [
      "6\n"
     ]
    }
   ],
   "source": [
    "# 普通python函数\n",
    "def add_func(a,b,c):\n",
    "    return a+b+c\n",
    " \n",
    "print(add_func(1,2,3))\n",
    "# 返回值为6"
   ]
  },
  {
   "cell_type": "code",
   "execution_count": 5,
   "id": "ff1fadd5",
   "metadata": {},
   "outputs": [
    {
     "name": "stdout",
     "output_type": "stream",
     "text": [
      "6\n"
     ]
    }
   ],
   "source": [
    "# lambda匿名函数\n",
    "f_add = lambda a,b,c:a+b+c\n",
    "print(f_add(1,2,3))"
   ]
  },
  {
   "cell_type": "code",
   "execution_count": 6,
   "id": "d643327e",
   "metadata": {},
   "outputs": [],
   "source": [
    "# f = lambda x:my_test(x)   # 代码1\n",
    "# 等价于\n",
    "# def f(x):\n",
    "#     return my_test(x)"
   ]
  },
  {
   "cell_type": "code",
   "execution_count": 7,
   "id": "4adbdc18",
   "metadata": {},
   "outputs": [],
   "source": [
    "register = {}\n",
    "\n",
    "def func1():\n",
    "    pass\n",
    "\n",
    "f = lambda x : x\n",
    "\n",
    "class cls1(object):\n",
    "    pass\n",
    "\n",
    "register[func1.__name__] = func1\n",
    "register[f.__name__] = f\n",
    "register[cls1.__name__] = cls1\n"
   ]
  },
  {
   "cell_type": "code",
   "execution_count": 8,
   "id": "c66322aa",
   "metadata": {},
   "outputs": [
    {
     "name": "stdout",
     "output_type": "stream",
     "text": [
      "func1\n"
     ]
    }
   ],
   "source": [
    "print(func1.__name__)"
   ]
  },
  {
   "cell_type": "code",
   "execution_count": 9,
   "id": "1ac05d31",
   "metadata": {},
   "outputs": [
    {
     "data": {
      "text/plain": [
       "{'func1': <function __main__.func1()>,\n",
       " '<lambda>': <function __main__.<lambda>(x)>,\n",
       " 'cls1': __main__.cls1}"
      ]
     },
     "execution_count": 9,
     "metadata": {},
     "output_type": "execute_result"
    }
   ],
   "source": [
    "register"
   ]
  },
  {
   "cell_type": "code",
   "execution_count": null,
   "id": "06d343c9",
   "metadata": {},
   "outputs": [],
   "source": []
  },
  {
   "cell_type": "code",
   "execution_count": 10,
   "id": "ccfadb53",
   "metadata": {},
   "outputs": [],
   "source": [
    "class Register(dict):\n",
    "    def __init__(self, *args, **kwargs):\n",
    "        super(Register, self).__init__(*args, **kwargs)\n",
    "        self._dict = {}\n",
    "    \n",
    "    def register(self, target):\n",
    "        pass\n",
    "    \n",
    "    def __setitem__(self, key, value):\n",
    "        self._dict[key] = value\n",
    "\n",
    "    def __getitem__(self, key):\n",
    "        return self._dict[key]\n",
    "    \n",
    "    def __contains__(self, key):\n",
    "        return key in self._dict\n",
    "    \n",
    "    def __str__(self):\n",
    "        return str(self._dict)\n",
    "    \n",
    "    def keys(self):\n",
    "        return self._dict.keys()\n",
    "    \n",
    "    def values(self):\n",
    "        return self._dict.values()\n",
    "    \n",
    "    def items(self):\n",
    "        return self._dict.items()\n",
    "    \n",
    "    \n",
    "    def register(self, target):\n",
    "        def add_register_item(key, value):\n",
    "            if not callable(value):\n",
    "                raise Exception(f\"register object must be callable! But receice:{value} is not callable!\")\n",
    "            if key in self._dict:\n",
    "                print(f\"warning: \\033[33m{value.__name__} has been registered before, so we will overriden it\\033[0m\")\n",
    "            self[key] = value\n",
    "            return value\n",
    "\n",
    "        if callable(target):            # 如果传入的目标可调用，说明之前没有给出注册名字，我们就以传入的函数或者类的名字作为注册名\n",
    "            return add_register_item(target.__name__, target)\n",
    "        else:                           # 如果不可调用，说明额外说明了注册的可调用对象的名字\n",
    "            return lambda x : add_register_item(target, x)"
   ]
  },
  {
   "cell_type": "code",
   "execution_count": 11,
   "id": "599463ad",
   "metadata": {},
   "outputs": [
    {
     "ename": "TypeError",
     "evalue": "'Register' object is not callable",
     "output_type": "error",
     "traceback": [
      "\u001b[0;31m---------------------------------------------------------------------------\u001b[0m",
      "\u001b[0;31mTypeError\u001b[0m                                 Traceback (most recent call last)",
      "\u001b[0;32m<ipython-input-11-fc49bb76ad35>\u001b[0m in \u001b[0;36m<module>\u001b[0;34m\u001b[0m\n\u001b[1;32m      5\u001b[0m \u001b[0;31m#     return a + b\u001b[0m\u001b[0;34m\u001b[0m\u001b[0;34m\u001b[0m\u001b[0;34m\u001b[0m\u001b[0m\n\u001b[1;32m      6\u001b[0m \u001b[0;34m\u001b[0m\u001b[0m\n\u001b[0;32m----> 7\u001b[0;31m \u001b[0;34m@\u001b[0m\u001b[0mregister_functions\u001b[0m\u001b[0;34m(\u001b[0m\u001b[0;34m\"my multiply\"\u001b[0m\u001b[0;34m)\u001b[0m\u001b[0;34m\u001b[0m\u001b[0;34m\u001b[0m\u001b[0m\n\u001b[0m\u001b[1;32m      8\u001b[0m \u001b[0;32mdef\u001b[0m \u001b[0mmultiply\u001b[0m\u001b[0;34m(\u001b[0m\u001b[0ma\u001b[0m \u001b[0;34m:\u001b[0m \u001b[0mint\u001b[0m\u001b[0;34m,\u001b[0m \u001b[0mb\u001b[0m \u001b[0;34m:\u001b[0m \u001b[0mint\u001b[0m\u001b[0;34m)\u001b[0m\u001b[0;34m:\u001b[0m\u001b[0;34m\u001b[0m\u001b[0;34m\u001b[0m\u001b[0m\n\u001b[1;32m      9\u001b[0m     \u001b[0;32mreturn\u001b[0m \u001b[0ma\u001b[0m \u001b[0;34m*\u001b[0m \u001b[0mb\u001b[0m\u001b[0;34m\u001b[0m\u001b[0;34m\u001b[0m\u001b[0m\n",
      "\u001b[0;31mTypeError\u001b[0m: 'Register' object is not callable"
     ]
    }
   ],
   "source": [
    "register_functions = Register()\n",
    "\n",
    "# @register_functions\n",
    "# def add(a : int, b : int):\n",
    "#     return a + b\n",
    "\n",
    "@register_functions(\"my multiply\")\n",
    "def multiply(a : int, b : int):\n",
    "    return a * b\n",
    "\n",
    "# @register_functions\n",
    "# def minus(a : int, b : int):\n",
    "#     return a - b\n",
    "\n",
    "print(register_functions)\n"
   ]
  },
  {
   "cell_type": "code",
   "execution_count": null,
   "id": "d84cc998",
   "metadata": {},
   "outputs": [],
   "source": []
  },
  {
   "cell_type": "code",
   "execution_count": null,
   "id": "29459e3a",
   "metadata": {},
   "outputs": [],
   "source": []
  },
  {
   "cell_type": "code",
   "execution_count": null,
   "id": "953434d2",
   "metadata": {},
   "outputs": [],
   "source": []
  },
  {
   "cell_type": "code",
   "execution_count": null,
   "id": "18d38619",
   "metadata": {},
   "outputs": [],
   "source": [
    "# class Registry(object):\n",
    "# # Registry类似于一个dict（实际上是有一个_dict属性:_obj_map），可以set_item和get_item\n",
    "#     def __init__(self, name):\n",
    "#         \"\"\"\n",
    "#         Args:\n",
    "#             name (str): the name of this registry\n",
    "#         \"\"\"\n",
    "#         self._name = name\n",
    "# #       self._dict = {}\n",
    "#         self._obj_map = {}\n",
    " \n",
    "#     def _do_register(self, name, obj):\n",
    "#         assert (\n",
    "#             name not in self._obj_map\n",
    "#         ), \"An object named '{}' was already registered in '{}' registry!\".format(name, self._name)\n",
    "#         self._obj_map[name] = obj\n",
    "# #  register函数，它可以作为装饰器，注册一个函数或者一个类\n",
    "#     def register(self, obj=None):\n",
    "#         \"\"\"\n",
    "#         Register the given object under the the name `obj.__name__`.\n",
    "#         Can be used as either a decorator or not. See docstring of this class for usage.\n",
    "#         \"\"\"\n",
    "#         if obj is None:\n",
    "#             # used as a decorator\n",
    "#             def deco(func_or_class):\n",
    "#                 name = func_or_class.__name__\n",
    "#                 self._do_register(name, func_or_class)\n",
    "#                 return func_or_class\n",
    " \n",
    "#             return deco\n",
    " \n",
    "#         # used as a function call\n",
    "#         name = obj.__name__\n",
    "#         self._do_register(name, obj)\n",
    " \n",
    "#     def get(self, name):\n",
    "#         ret = self._obj_map.get(name)\n",
    "#         if ret is None:\n",
    "#             raise KeyError(\"No object named '{}' found in '{}' registry!\".format(name, self._name))\n",
    "#         return ret\n",
    "\n",
    "\n",
    "# registry_machine = Registry('registry_machine')   #可以在func后面对func进行传参\n",
    " \n",
    "# registry_machine.register()\n",
    "# def print_hello_world(word):\n",
    "#     print('hello {}'.format(word))\n",
    " \n",
    "#  registry_machine.register()\n",
    "# def print_hi_world(word):\n",
    "#     print('hi {}'.format(word))\n",
    " \n",
    "\n",
    "\n",
    "\n",
    "\n",
    "# if __name__ == '__main__':\n",
    " \n",
    "#     cfg1 = 'print_hello_word'\n",
    "#     registry_machine.get(cfg1)('world')\n",
    " \n",
    "#     cfg2 = 'print_hi_word'\n",
    "#     registry_machine.get(cfg2)('world')"
   ]
  }
 ],
 "metadata": {
  "kernelspec": {
   "display_name": "Python 3",
   "language": "python",
   "name": "python3"
  },
  "language_info": {
   "codemirror_mode": {
    "name": "ipython",
    "version": 3
   },
   "file_extension": ".py",
   "mimetype": "text/x-python",
   "name": "python",
   "nbconvert_exporter": "python",
   "pygments_lexer": "ipython3",
   "version": "3.7.10"
  }
 },
 "nbformat": 4,
 "nbformat_minor": 5
}
