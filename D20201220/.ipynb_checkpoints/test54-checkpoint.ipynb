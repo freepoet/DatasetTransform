{
 "cells": [
  {
   "cell_type": "code",
   "execution_count": 1,
   "metadata": {},
   "outputs": [
    {
     "data": {
      "text/plain": [
       "tensor([[1.3563e-19, 4.1638e-11, 3.8177e-05, 1.3567e-19],\n",
       "        [3.1432e-12, 1.3563e-19, 1.3563e-19, 1.3563e-19],\n",
       "        [5.8337e-10, 1.3567e-19, 1.4584e-19, 7.8447e+17]], device='cuda:0')"
      ]
     },
     "execution_count": 1,
     "metadata": {},
     "output_type": "execute_result"
    }
   ],
   "source": [
    "import torch as t\n",
    "tensor=t.Tensor(3,4)\n",
    "tensor.cuda()"
   ]
  },
  {
   "cell_type": "code",
   "execution_count": 2,
   "metadata": {},
   "outputs": [
    {
     "name": "stdout",
     "output_type": "stream",
     "text": [
      "False True\n"
     ]
    }
   ],
   "source": [
    "tensor1=tensor.cuda()\n",
    "print(tensor.is_cuda,tensor1.is_cuda,)"
   ]
  },
  {
   "cell_type": "code",
   "execution_count": 3,
   "metadata": {},
   "outputs": [
    {
     "data": {
      "text/plain": [
       "tensor([[1.3563e-19, 4.1638e-11, 3.8177e-05, 1.3567e-19],\n",
       "        [3.1432e-12, 1.3563e-19, 1.3563e-19, 1.3563e-19],\n",
       "        [5.8337e-10, 1.3567e-19, 1.4584e-19, 7.8447e+17]], device='cuda:0')"
      ]
     },
     "execution_count": 3,
     "metadata": {},
     "output_type": "execute_result"
    }
   ],
   "source": [
    "variable=t.autograd.Variable(tensor)\n",
    "variable.cuda()\n"
   ]
  },
  {
   "cell_type": "code",
   "execution_count": 4,
   "metadata": {},
   "outputs": [
    {
     "data": {
      "text/plain": [
       "False"
      ]
     },
     "execution_count": 4,
     "metadata": {},
     "output_type": "execute_result"
    }
   ],
   "source": [
    "variable.is_cuda"
   ]
  },
  {
   "cell_type": "code",
   "execution_count": 6,
   "metadata": {},
   "outputs": [
    {
     "data": {
      "text/plain": [
       "Parameter containing:\n",
       "tensor([[-0.4730,  0.4553,  0.1151],\n",
       "        [-0.3292, -0.0492, -0.5195],\n",
       "        [-0.1459,  0.2192, -0.2965],\n",
       "        [-0.3584, -0.5486, -0.0352]], device='cuda:0', requires_grad=True)"
      ]
     },
     "execution_count": 6,
     "metadata": {},
     "output_type": "execute_result"
    }
   ],
   "source": [
    "import torch.nn as nn\n",
    "module=nn.Linear(3,4)\n",
    "module.cuda(0)\n",
    "module.weight"
   ]
  },
  {
   "cell_type": "code",
   "execution_count": 7,
   "metadata": {},
   "outputs": [
    {
     "data": {
      "text/plain": [
       "True"
      ]
     },
     "execution_count": 7,
     "metadata": {},
     "output_type": "execute_result"
    }
   ],
   "source": [
    "module.weight.is_cuda"
   ]
  },
  {
   "cell_type": "code",
   "execution_count": 11,
   "metadata": {},
   "outputs": [
    {
     "data": {
      "text/plain": [
       "tensor(0.8584, device='cuda:0')"
      ]
     },
     "execution_count": 11,
     "metadata": {},
     "output_type": "execute_result"
    }
   ],
   "source": [
    "criterion=t.nn.CrossEntropyLoss(weight=t.Tensor([1,3])).cuda()\n",
    "input=t.autograd.Variable(t.randn(4,2)).cuda()\n",
    "target=t.autograd.Variable(t.Tensor([1,0,0,1])).long().cuda()\n",
    "loss=criterion(input,target)\n",
    "loss"
   ]
  },
  {
   "cell_type": "code",
   "execution_count": 12,
   "metadata": {},
   "outputs": [
    {
     "data": {
      "text/plain": [
       "OrderedDict([('weight', tensor([1., 3.], device='cuda:0'))])"
      ]
     },
     "execution_count": 12,
     "metadata": {},
     "output_type": "execute_result"
    }
   ],
   "source": [
    "criterion._buffers"
   ]
  },
  {
   "cell_type": "code",
   "execution_count": null,
   "metadata": {},
   "outputs": [],
   "source": [
    "a=t.Tensor(3,4)\n",
    "t.save(a,'a.pth')\n",
    "if t.cuda.is_available():\n",
    "    b=t.load('a.pth')\n",
    "    \n",
    "    c=t.load('a.pth',map_location=lamda storage,loc:storage)\n",
    "    \n",
    "    d=t.load('a.pth',map_location={'cuda'})"
   ]
  }
 ],
 "metadata": {
  "kernelspec": {
   "display_name": "Python 3",
   "language": "python",
   "name": "python3"
  },
  "language_info": {
   "codemirror_mode": {
    "name": "ipython",
    "version": 3
   },
   "file_extension": ".py",
   "mimetype": "text/x-python",
   "name": "python",
   "nbconvert_exporter": "python",
   "pygments_lexer": "ipython3",
   "version": "3.7.9"
  }
 },
 "nbformat": 4,
 "nbformat_minor": 4
}
